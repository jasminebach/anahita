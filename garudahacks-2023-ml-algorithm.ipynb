{
 "cells": [
  {
   "cell_type": "markdown",
   "id": "345fe336",
   "metadata": {
    "papermill": {
     "duration": 0.006858,
     "end_time": "2023-07-22T16:02:25.751614",
     "exception": false,
     "start_time": "2023-07-22T16:02:25.744756",
     "status": "completed"
    },
    "tags": []
   },
   "source": [
    "# 1. Household Water Consumption Data Generator"
   ]
  },
  {
   "cell_type": "code",
   "execution_count": 1,
   "id": "c84282a0",
   "metadata": {
    "_cell_guid": "b1076dfc-b9ad-4769-8c92-a6c4dae69d19",
    "_uuid": "8f2839f25d086af736a60e9eeb907d3b93b6e0e5",
    "execution": {
     "iopub.execute_input": "2023-07-22T16:02:25.766147Z",
     "iopub.status.busy": "2023-07-22T16:02:25.765738Z",
     "iopub.status.idle": "2023-07-22T16:02:25.776833Z",
     "shell.execute_reply": "2023-07-22T16:02:25.775945Z"
    },
    "papermill": {
     "duration": 0.021006,
     "end_time": "2023-07-22T16:02:25.779060",
     "exception": false,
     "start_time": "2023-07-22T16:02:25.758054",
     "status": "completed"
    },
    "tags": []
   },
   "outputs": [],
   "source": [
    "# importing packages\n",
    "import numpy as np # linear algebra\n",
    "import pandas as pd # data processing, CSV file I/O (e.g. pd.read_csv)\n",
    "from datetime import datetime\n",
    "import random"
   ]
  },
  {
   "cell_type": "code",
   "execution_count": 2,
   "id": "ce86ae6a",
   "metadata": {
    "_kg_hide-output": true,
    "execution": {
     "iopub.execute_input": "2023-07-22T16:02:25.793640Z",
     "iopub.status.busy": "2023-07-22T16:02:25.793259Z",
     "iopub.status.idle": "2023-07-22T16:02:25.832430Z",
     "shell.execute_reply": "2023-07-22T16:02:25.831192Z"
    },
    "papermill": {
     "duration": 0.049651,
     "end_time": "2023-07-22T16:02:25.834949",
     "exception": false,
     "start_time": "2023-07-22T16:02:25.785298",
     "status": "completed"
    },
    "tags": []
   },
   "outputs": [
    {
     "data": {
      "text/html": [
       "<div>\n",
       "<style scoped>\n",
       "    .dataframe tbody tr th:only-of-type {\n",
       "        vertical-align: middle;\n",
       "    }\n",
       "\n",
       "    .dataframe tbody tr th {\n",
       "        vertical-align: top;\n",
       "    }\n",
       "\n",
       "    .dataframe thead th {\n",
       "        text-align: right;\n",
       "    }\n",
       "</style>\n",
       "<table border=\"1\" class=\"dataframe\">\n",
       "  <thead>\n",
       "    <tr style=\"text-align: right;\">\n",
       "      <th></th>\n",
       "      <th>Value</th>\n",
       "    </tr>\n",
       "  </thead>\n",
       "  <tbody>\n",
       "    <tr>\n",
       "      <th>2023-01-01 00:00:00</th>\n",
       "      <td>4</td>\n",
       "    </tr>\n",
       "    <tr>\n",
       "      <th>2023-01-01 01:00:00</th>\n",
       "      <td>1</td>\n",
       "    </tr>\n",
       "    <tr>\n",
       "      <th>2023-01-01 02:00:00</th>\n",
       "      <td>1</td>\n",
       "    </tr>\n",
       "    <tr>\n",
       "      <th>2023-01-01 03:00:00</th>\n",
       "      <td>3</td>\n",
       "    </tr>\n",
       "    <tr>\n",
       "      <th>2023-01-01 04:00:00</th>\n",
       "      <td>2</td>\n",
       "    </tr>\n",
       "    <tr>\n",
       "      <th>...</th>\n",
       "      <td>...</td>\n",
       "    </tr>\n",
       "    <tr>\n",
       "      <th>2023-01-13 07:00:00</th>\n",
       "      <td>52</td>\n",
       "    </tr>\n",
       "    <tr>\n",
       "      <th>2023-01-13 08:00:00</th>\n",
       "      <td>50</td>\n",
       "    </tr>\n",
       "    <tr>\n",
       "      <th>2023-01-13 09:00:00</th>\n",
       "      <td>53</td>\n",
       "    </tr>\n",
       "    <tr>\n",
       "      <th>2023-01-13 10:00:00</th>\n",
       "      <td>50</td>\n",
       "    </tr>\n",
       "    <tr>\n",
       "      <th>2023-01-13 11:00:00</th>\n",
       "      <td>51</td>\n",
       "    </tr>\n",
       "  </tbody>\n",
       "</table>\n",
       "<p>300 rows × 1 columns</p>\n",
       "</div>"
      ],
      "text/plain": [
       "                     Value\n",
       "2023-01-01 00:00:00      4\n",
       "2023-01-01 01:00:00      1\n",
       "2023-01-01 02:00:00      1\n",
       "2023-01-01 03:00:00      3\n",
       "2023-01-01 04:00:00      2\n",
       "...                    ...\n",
       "2023-01-13 07:00:00     52\n",
       "2023-01-13 08:00:00     50\n",
       "2023-01-13 09:00:00     53\n",
       "2023-01-13 10:00:00     50\n",
       "2023-01-13 11:00:00     51\n",
       "\n",
       "[300 rows x 1 columns]"
      ]
     },
     "execution_count": 2,
     "metadata": {},
     "output_type": "execute_result"
    }
   ],
   "source": [
    "periods, divider = 300, 6\n",
    "\n",
    "# Example 1: Creating a DatetimeIndex with a frequency\n",
    "start_date = '2023-01-01'\n",
    "index_freq = '1H'  # Daily frequency\n",
    "\n",
    "# Create DateTimeIndex at minute frequency\n",
    "def household_data_generator():\n",
    "    index = pd.date_range(start=start_date, periods=periods, freq=index_freq)\n",
    "    data = np.array([i+random.randint(1,4) for i in range(int(periods/divider)) for j in range(divider)])\n",
    "    df = pd.DataFrame(data, index=index, columns=['Value'])\n",
    "    return df\n",
    "df = household_data_generator()\n",
    "df"
   ]
  },
  {
   "cell_type": "markdown",
   "id": "d3a81647",
   "metadata": {
    "papermill": {
     "duration": 0.006265,
     "end_time": "2023-07-22T16:02:25.847636",
     "exception": false,
     "start_time": "2023-07-22T16:02:25.841371",
     "status": "completed"
    },
    "tags": []
   },
   "source": [
    "# 2. Understanding General, Seasonal and Event-based Trends"
   ]
  },
  {
   "cell_type": "code",
   "execution_count": 3,
   "id": "d6d887fc",
   "metadata": {
    "execution": {
     "iopub.execute_input": "2023-07-22T16:02:25.862426Z",
     "iopub.status.busy": "2023-07-22T16:02:25.862019Z",
     "iopub.status.idle": "2023-07-22T16:02:44.100887Z",
     "shell.execute_reply": "2023-07-22T16:02:44.099549Z"
    },
    "papermill": {
     "duration": 18.249603,
     "end_time": "2023-07-22T16:02:44.103732",
     "exception": false,
     "start_time": "2023-07-22T16:02:25.854129",
     "status": "completed"
    },
    "scrolled": true,
    "tags": []
   },
   "outputs": [
    {
     "name": "stdout",
     "output_type": "stream",
     "text": [
      "Collecting pmdarima\r\n",
      "  Downloading pmdarima-2.0.3-cp310-cp310-manylinux_2_17_x86_64.manylinux2014_x86_64.manylinux_2_28_x86_64.whl (1.8 MB)\r\n",
      "\u001b[2K     \u001b[90m━━━━━━━━━━━━━━━━━━━━━━━━━━━━━━━━━━━━━━━━\u001b[0m \u001b[32m1.8/1.8 MB\u001b[0m \u001b[31m29.1 MB/s\u001b[0m eta \u001b[36m0:00:00\u001b[0m\r\n",
      "\u001b[?25hRequirement already satisfied: joblib>=0.11 in /opt/conda/lib/python3.10/site-packages (from pmdarima) (1.2.0)\r\n",
      "Requirement already satisfied: Cython!=0.29.18,!=0.29.31,>=0.29 in /opt/conda/lib/python3.10/site-packages (from pmdarima) (0.29.35)\r\n",
      "Requirement already satisfied: numpy>=1.21.2 in /opt/conda/lib/python3.10/site-packages (from pmdarima) (1.23.5)\r\n",
      "Requirement already satisfied: pandas>=0.19 in /opt/conda/lib/python3.10/site-packages (from pmdarima) (1.5.3)\r\n",
      "Requirement already satisfied: scikit-learn>=0.22 in /opt/conda/lib/python3.10/site-packages (from pmdarima) (1.2.2)\r\n",
      "Requirement already satisfied: scipy>=1.3.2 in /opt/conda/lib/python3.10/site-packages (from pmdarima) (1.11.1)\r\n",
      "Requirement already satisfied: statsmodels>=0.13.2 in /opt/conda/lib/python3.10/site-packages (from pmdarima) (0.14.0)\r\n",
      "Requirement already satisfied: urllib3 in /opt/conda/lib/python3.10/site-packages (from pmdarima) (1.26.15)\r\n",
      "Requirement already satisfied: setuptools!=50.0.0,>=38.6.0 in /opt/conda/lib/python3.10/site-packages (from pmdarima) (59.8.0)\r\n",
      "Requirement already satisfied: python-dateutil>=2.8.1 in /opt/conda/lib/python3.10/site-packages (from pandas>=0.19->pmdarima) (2.8.2)\r\n",
      "Requirement already satisfied: pytz>=2020.1 in /opt/conda/lib/python3.10/site-packages (from pandas>=0.19->pmdarima) (2023.3)\r\n",
      "Requirement already satisfied: threadpoolctl>=2.0.0 in /opt/conda/lib/python3.10/site-packages (from scikit-learn>=0.22->pmdarima) (3.1.0)\r\n",
      "Requirement already satisfied: patsy>=0.5.2 in /opt/conda/lib/python3.10/site-packages (from statsmodels>=0.13.2->pmdarima) (0.5.3)\r\n",
      "Requirement already satisfied: packaging>=21.3 in /opt/conda/lib/python3.10/site-packages (from statsmodels>=0.13.2->pmdarima) (21.3)\r\n",
      "Requirement already satisfied: pyparsing!=3.0.5,>=2.0.2 in /opt/conda/lib/python3.10/site-packages (from packaging>=21.3->statsmodels>=0.13.2->pmdarima) (3.0.9)\r\n",
      "Requirement already satisfied: six in /opt/conda/lib/python3.10/site-packages (from patsy>=0.5.2->statsmodels>=0.13.2->pmdarima) (1.16.0)\r\n",
      "Installing collected packages: pmdarima\r\n",
      "Successfully installed pmdarima-2.0.3\r\n"
     ]
    },
    {
     "name": "stderr",
     "output_type": "stream",
     "text": [
      "/opt/conda/lib/python3.10/site-packages/scipy/__init__.py:146: UserWarning: A NumPy version >=1.16.5 and <1.23.0 is required for this version of SciPy (detected version 1.23.5\n",
      "  warnings.warn(f\"A NumPy version >={np_minversion} and <{np_maxversion}\"\n"
     ]
    }
   ],
   "source": [
    "!pip install pmdarima\n",
    "import statsmodels.api as sm\n",
    "import matplotlib.pyplot as plt\n",
    "from statsmodels.graphics.tsaplots import plot_acf,  plot_pacf\n",
    "from statsmodels.tsa.arima_model import ARIMA\n",
    "from statsmodels.tsa.statespace.sarimax import SARIMAX\n",
    "from pmdarima.arima import auto_arima"
   ]
  },
  {
   "cell_type": "code",
   "execution_count": 4,
   "id": "38ff570d",
   "metadata": {
    "execution": {
     "iopub.execute_input": "2023-07-22T16:02:44.121475Z",
     "iopub.status.busy": "2023-07-22T16:02:44.120575Z",
     "iopub.status.idle": "2023-07-22T16:02:44.437740Z",
     "shell.execute_reply": "2023-07-22T16:02:44.436575Z"
    },
    "papermill": {
     "duration": 0.32887,
     "end_time": "2023-07-22T16:02:44.440307",
     "exception": false,
     "start_time": "2023-07-22T16:02:44.111437",
     "status": "completed"
    },
    "tags": []
   },
   "outputs": [
    {
     "data": {
      "text/html": [
       "        <script type=\"text/javascript\">\n",
       "        window.PlotlyConfig = {MathJaxConfig: 'local'};\n",
       "        if (window.MathJax && window.MathJax.Hub && window.MathJax.Hub.Config) {window.MathJax.Hub.Config({SVG: {font: \"STIX-Web\"}});}\n",
       "        if (typeof require !== 'undefined') {\n",
       "        require.undef(\"plotly\");\n",
       "        requirejs.config({\n",
       "            paths: {\n",
       "                'plotly': ['https://cdn.plot.ly/plotly-2.24.1.min']\n",
       "            }\n",
       "        });\n",
       "        require(['plotly'], function(Plotly) {\n",
       "            window._Plotly = Plotly;\n",
       "        });\n",
       "        }\n",
       "        </script>\n",
       "        "
      ]
     },
     "metadata": {},
     "output_type": "display_data"
    },
    {
     "data": {
      "text/html": [
       "<div>                            <div id=\"3e37c835-2bc1-4214-a78c-f5786e852f6c\" class=\"plotly-graph-div\" style=\"height:600px; width:800px;\"></div>            <script type=\"text/javascript\">                require([\"plotly\"], function(Plotly) {                    window.PLOTLYENV=window.PLOTLYENV || {};                                    if (document.getElementById(\"3e37c835-2bc1-4214-a78c-f5786e852f6c\")) {                    Plotly.newPlot(                        \"3e37c835-2bc1-4214-a78c-f5786e852f6c\",                        [{\"name\":\"Daily Trends\",\"x\":[\"2023-01-01T00:00:00\",\"2023-01-01T01:00:00\",\"2023-01-01T02:00:00\",\"2023-01-01T03:00:00\",\"2023-01-01T04:00:00\",\"2023-01-01T05:00:00\",\"2023-01-01T06:00:00\",\"2023-01-01T07:00:00\",\"2023-01-01T08:00:00\",\"2023-01-01T09:00:00\",\"2023-01-01T10:00:00\",\"2023-01-01T11:00:00\",\"2023-01-01T12:00:00\",\"2023-01-01T13:00:00\",\"2023-01-01T14:00:00\",\"2023-01-01T15:00:00\",\"2023-01-01T16:00:00\",\"2023-01-01T17:00:00\",\"2023-01-01T18:00:00\",\"2023-01-01T19:00:00\",\"2023-01-01T20:00:00\",\"2023-01-01T21:00:00\",\"2023-01-01T22:00:00\",\"2023-01-01T23:00:00\",\"2023-01-02T00:00:00\",\"2023-01-02T01:00:00\",\"2023-01-02T02:00:00\",\"2023-01-02T03:00:00\",\"2023-01-02T04:00:00\",\"2023-01-02T05:00:00\",\"2023-01-02T06:00:00\",\"2023-01-02T07:00:00\",\"2023-01-02T08:00:00\",\"2023-01-02T09:00:00\",\"2023-01-02T10:00:00\",\"2023-01-02T11:00:00\",\"2023-01-02T12:00:00\",\"2023-01-02T13:00:00\",\"2023-01-02T14:00:00\",\"2023-01-02T15:00:00\",\"2023-01-02T16:00:00\",\"2023-01-02T17:00:00\",\"2023-01-02T18:00:00\",\"2023-01-02T19:00:00\",\"2023-01-02T20:00:00\",\"2023-01-02T21:00:00\",\"2023-01-02T22:00:00\",\"2023-01-02T23:00:00\",\"2023-01-03T00:00:00\",\"2023-01-03T01:00:00\",\"2023-01-03T02:00:00\",\"2023-01-03T03:00:00\",\"2023-01-03T04:00:00\",\"2023-01-03T05:00:00\",\"2023-01-03T06:00:00\",\"2023-01-03T07:00:00\",\"2023-01-03T08:00:00\",\"2023-01-03T09:00:00\",\"2023-01-03T10:00:00\",\"2023-01-03T11:00:00\",\"2023-01-03T12:00:00\",\"2023-01-03T13:00:00\",\"2023-01-03T14:00:00\",\"2023-01-03T15:00:00\",\"2023-01-03T16:00:00\",\"2023-01-03T17:00:00\",\"2023-01-03T18:00:00\",\"2023-01-03T19:00:00\",\"2023-01-03T20:00:00\",\"2023-01-03T21:00:00\",\"2023-01-03T22:00:00\",\"2023-01-03T23:00:00\",\"2023-01-04T00:00:00\",\"2023-01-04T01:00:00\",\"2023-01-04T02:00:00\",\"2023-01-04T03:00:00\",\"2023-01-04T04:00:00\",\"2023-01-04T05:00:00\",\"2023-01-04T06:00:00\",\"2023-01-04T07:00:00\",\"2023-01-04T08:00:00\",\"2023-01-04T09:00:00\",\"2023-01-04T10:00:00\",\"2023-01-04T11:00:00\",\"2023-01-04T12:00:00\",\"2023-01-04T13:00:00\",\"2023-01-04T14:00:00\",\"2023-01-04T15:00:00\",\"2023-01-04T16:00:00\",\"2023-01-04T17:00:00\",\"2023-01-04T18:00:00\",\"2023-01-04T19:00:00\",\"2023-01-04T20:00:00\",\"2023-01-04T21:00:00\",\"2023-01-04T22:00:00\",\"2023-01-04T23:00:00\",\"2023-01-05T00:00:00\",\"2023-01-05T01:00:00\",\"2023-01-05T02:00:00\",\"2023-01-05T03:00:00\",\"2023-01-05T04:00:00\",\"2023-01-05T05:00:00\",\"2023-01-05T06:00:00\",\"2023-01-05T07:00:00\",\"2023-01-05T08:00:00\",\"2023-01-05T09:00:00\",\"2023-01-05T10:00:00\",\"2023-01-05T11:00:00\",\"2023-01-05T12:00:00\",\"2023-01-05T13:00:00\",\"2023-01-05T14:00:00\",\"2023-01-05T15:00:00\",\"2023-01-05T16:00:00\",\"2023-01-05T17:00:00\",\"2023-01-05T18:00:00\",\"2023-01-05T19:00:00\",\"2023-01-05T20:00:00\",\"2023-01-05T21:00:00\",\"2023-01-05T22:00:00\",\"2023-01-05T23:00:00\",\"2023-01-06T00:00:00\",\"2023-01-06T01:00:00\",\"2023-01-06T02:00:00\",\"2023-01-06T03:00:00\",\"2023-01-06T04:00:00\",\"2023-01-06T05:00:00\",\"2023-01-06T06:00:00\",\"2023-01-06T07:00:00\",\"2023-01-06T08:00:00\",\"2023-01-06T09:00:00\",\"2023-01-06T10:00:00\",\"2023-01-06T11:00:00\",\"2023-01-06T12:00:00\",\"2023-01-06T13:00:00\",\"2023-01-06T14:00:00\",\"2023-01-06T15:00:00\",\"2023-01-06T16:00:00\",\"2023-01-06T17:00:00\",\"2023-01-06T18:00:00\",\"2023-01-06T19:00:00\",\"2023-01-06T20:00:00\",\"2023-01-06T21:00:00\",\"2023-01-06T22:00:00\",\"2023-01-06T23:00:00\",\"2023-01-07T00:00:00\",\"2023-01-07T01:00:00\",\"2023-01-07T02:00:00\",\"2023-01-07T03:00:00\",\"2023-01-07T04:00:00\",\"2023-01-07T05:00:00\",\"2023-01-07T06:00:00\",\"2023-01-07T07:00:00\",\"2023-01-07T08:00:00\",\"2023-01-07T09:00:00\",\"2023-01-07T10:00:00\",\"2023-01-07T11:00:00\",\"2023-01-07T12:00:00\",\"2023-01-07T13:00:00\",\"2023-01-07T14:00:00\",\"2023-01-07T15:00:00\",\"2023-01-07T16:00:00\",\"2023-01-07T17:00:00\",\"2023-01-07T18:00:00\",\"2023-01-07T19:00:00\",\"2023-01-07T20:00:00\",\"2023-01-07T21:00:00\",\"2023-01-07T22:00:00\",\"2023-01-07T23:00:00\",\"2023-01-08T00:00:00\",\"2023-01-08T01:00:00\",\"2023-01-08T02:00:00\",\"2023-01-08T03:00:00\",\"2023-01-08T04:00:00\",\"2023-01-08T05:00:00\",\"2023-01-08T06:00:00\",\"2023-01-08T07:00:00\",\"2023-01-08T08:00:00\",\"2023-01-08T09:00:00\",\"2023-01-08T10:00:00\",\"2023-01-08T11:00:00\",\"2023-01-08T12:00:00\",\"2023-01-08T13:00:00\",\"2023-01-08T14:00:00\",\"2023-01-08T15:00:00\",\"2023-01-08T16:00:00\",\"2023-01-08T17:00:00\",\"2023-01-08T18:00:00\",\"2023-01-08T19:00:00\",\"2023-01-08T20:00:00\",\"2023-01-08T21:00:00\",\"2023-01-08T22:00:00\",\"2023-01-08T23:00:00\",\"2023-01-09T00:00:00\",\"2023-01-09T01:00:00\",\"2023-01-09T02:00:00\",\"2023-01-09T03:00:00\",\"2023-01-09T04:00:00\",\"2023-01-09T05:00:00\",\"2023-01-09T06:00:00\",\"2023-01-09T07:00:00\",\"2023-01-09T08:00:00\",\"2023-01-09T09:00:00\",\"2023-01-09T10:00:00\",\"2023-01-09T11:00:00\",\"2023-01-09T12:00:00\",\"2023-01-09T13:00:00\",\"2023-01-09T14:00:00\",\"2023-01-09T15:00:00\",\"2023-01-09T16:00:00\",\"2023-01-09T17:00:00\",\"2023-01-09T18:00:00\",\"2023-01-09T19:00:00\",\"2023-01-09T20:00:00\",\"2023-01-09T21:00:00\",\"2023-01-09T22:00:00\",\"2023-01-09T23:00:00\",\"2023-01-10T00:00:00\",\"2023-01-10T01:00:00\",\"2023-01-10T02:00:00\",\"2023-01-10T03:00:00\",\"2023-01-10T04:00:00\",\"2023-01-10T05:00:00\",\"2023-01-10T06:00:00\",\"2023-01-10T07:00:00\",\"2023-01-10T08:00:00\",\"2023-01-10T09:00:00\",\"2023-01-10T10:00:00\",\"2023-01-10T11:00:00\",\"2023-01-10T12:00:00\",\"2023-01-10T13:00:00\",\"2023-01-10T14:00:00\",\"2023-01-10T15:00:00\",\"2023-01-10T16:00:00\",\"2023-01-10T17:00:00\",\"2023-01-10T18:00:00\",\"2023-01-10T19:00:00\",\"2023-01-10T20:00:00\",\"2023-01-10T21:00:00\",\"2023-01-10T22:00:00\",\"2023-01-10T23:00:00\",\"2023-01-11T00:00:00\",\"2023-01-11T01:00:00\",\"2023-01-11T02:00:00\",\"2023-01-11T03:00:00\",\"2023-01-11T04:00:00\",\"2023-01-11T05:00:00\",\"2023-01-11T06:00:00\",\"2023-01-11T07:00:00\",\"2023-01-11T08:00:00\",\"2023-01-11T09:00:00\",\"2023-01-11T10:00:00\",\"2023-01-11T11:00:00\",\"2023-01-11T12:00:00\",\"2023-01-11T13:00:00\",\"2023-01-11T14:00:00\",\"2023-01-11T15:00:00\",\"2023-01-11T16:00:00\",\"2023-01-11T17:00:00\",\"2023-01-11T18:00:00\",\"2023-01-11T19:00:00\",\"2023-01-11T20:00:00\",\"2023-01-11T21:00:00\",\"2023-01-11T22:00:00\",\"2023-01-11T23:00:00\",\"2023-01-12T00:00:00\",\"2023-01-12T01:00:00\",\"2023-01-12T02:00:00\",\"2023-01-12T03:00:00\",\"2023-01-12T04:00:00\",\"2023-01-12T05:00:00\",\"2023-01-12T06:00:00\",\"2023-01-12T07:00:00\",\"2023-01-12T08:00:00\",\"2023-01-12T09:00:00\",\"2023-01-12T10:00:00\",\"2023-01-12T11:00:00\",\"2023-01-12T12:00:00\",\"2023-01-12T13:00:00\",\"2023-01-12T14:00:00\",\"2023-01-12T15:00:00\",\"2023-01-12T16:00:00\",\"2023-01-12T17:00:00\",\"2023-01-12T18:00:00\",\"2023-01-12T19:00:00\",\"2023-01-12T20:00:00\",\"2023-01-12T21:00:00\",\"2023-01-12T22:00:00\",\"2023-01-12T23:00:00\",\"2023-01-13T00:00:00\",\"2023-01-13T01:00:00\",\"2023-01-13T02:00:00\",\"2023-01-13T03:00:00\",\"2023-01-13T04:00:00\",\"2023-01-13T05:00:00\",\"2023-01-13T06:00:00\",\"2023-01-13T07:00:00\",\"2023-01-13T08:00:00\",\"2023-01-13T09:00:00\",\"2023-01-13T10:00:00\",\"2023-01-13T11:00:00\"],\"y\":[0.4560711279461272,0.47690446127946096,0.03751052188552118,0.05266203703703555,-0.29961069023569054,0.25910143097643173,1.0015256734006723,-0.16324705387205407,-0.13862584175084108,0.24584385521885632,-0.5571864478114467,-0.4492319023569031,0.3253893097643105,0.24205597643097593,-0.17808291245791308,0.40698653198653273,-0.341277356902357,-1.0079440235690234,0.15872264309764259,0.5736531986531986,-0.2562079124579114,-0.08780513468013332,-0.6728745791245797,-0.08433291245791255,0.4560711279461272,0.47690446127946096,0.03751052188552118,0.05266203703703555,-0.29961069023569054,0.25910143097643173,1.0015256734006723,-0.16324705387205407,-0.13862584175084108,0.24584385521885632,-0.5571864478114467,-0.4492319023569031,0.3253893097643105,0.24205597643097593,-0.17808291245791308,0.40698653198653273,-0.341277356902357,-1.0079440235690234,0.15872264309764259,0.5736531986531986,-0.2562079124579114,-0.08780513468013332,-0.6728745791245797,-0.08433291245791255,0.4560711279461272,0.47690446127946096,0.03751052188552118,0.05266203703703555,-0.29961069023569054,0.25910143097643173,1.0015256734006723,-0.16324705387205407,-0.13862584175084108,0.24584385521885632,-0.5571864478114467,-0.4492319023569031,0.3253893097643105,0.24205597643097593,-0.17808291245791308,0.40698653198653273,-0.341277356902357,-1.0079440235690234,0.15872264309764259,0.5736531986531986,-0.2562079124579114,-0.08780513468013332,-0.6728745791245797,-0.08433291245791255,0.4560711279461272,0.47690446127946096,0.03751052188552118,0.05266203703703555,-0.29961069023569054,0.25910143097643173,1.0015256734006723,-0.16324705387205407,-0.13862584175084108,0.24584385521885632,-0.5571864478114467,-0.4492319023569031,0.3253893097643105,0.24205597643097593,-0.17808291245791308,0.40698653198653273,-0.341277356902357,-1.0079440235690234,0.15872264309764259,0.5736531986531986,-0.2562079124579114,-0.08780513468013332,-0.6728745791245797,-0.08433291245791255,0.4560711279461272,0.47690446127946096,0.03751052188552118,0.05266203703703555,-0.29961069023569054,0.25910143097643173,1.0015256734006723,-0.16324705387205407,-0.13862584175084108,0.24584385521885632,-0.5571864478114467,-0.4492319023569031,0.3253893097643105,0.24205597643097593,-0.17808291245791308,0.40698653198653273,-0.341277356902357,-1.0079440235690234,0.15872264309764259,0.5736531986531986,-0.2562079124579114,-0.08780513468013332,-0.6728745791245797,-0.08433291245791255,0.4560711279461272,0.47690446127946096,0.03751052188552118,0.05266203703703555,-0.29961069023569054,0.25910143097643173,1.0015256734006723,-0.16324705387205407,-0.13862584175084108,0.24584385521885632,-0.5571864478114467,-0.4492319023569031,0.3253893097643105,0.24205597643097593,-0.17808291245791308,0.40698653198653273,-0.341277356902357,-1.0079440235690234,0.15872264309764259,0.5736531986531986,-0.2562079124579114,-0.08780513468013332,-0.6728745791245797,-0.08433291245791255,0.4560711279461272,0.47690446127946096,0.03751052188552118,0.05266203703703555,-0.29961069023569054,0.25910143097643173,1.0015256734006723,-0.16324705387205407,-0.13862584175084108,0.24584385521885632,-0.5571864478114467,-0.4492319023569031,0.3253893097643105,0.24205597643097593,-0.17808291245791308,0.40698653198653273,-0.341277356902357,-1.0079440235690234,0.15872264309764259,0.5736531986531986,-0.2562079124579114,-0.08780513468013332,-0.6728745791245797,-0.08433291245791255,0.4560711279461272,0.47690446127946096,0.03751052188552118,0.05266203703703555,-0.29961069023569054,0.25910143097643173,1.0015256734006723,-0.16324705387205407,-0.13862584175084108,0.24584385521885632,-0.5571864478114467,-0.4492319023569031,0.3253893097643105,0.24205597643097593,-0.17808291245791308,0.40698653198653273,-0.341277356902357,-1.0079440235690234,0.15872264309764259,0.5736531986531986,-0.2562079124579114,-0.08780513468013332,-0.6728745791245797,-0.08433291245791255,0.4560711279461272,0.47690446127946096,0.03751052188552118,0.05266203703703555,-0.29961069023569054,0.25910143097643173,1.0015256734006723,-0.16324705387205407,-0.13862584175084108,0.24584385521885632,-0.5571864478114467,-0.4492319023569031,0.3253893097643105,0.24205597643097593,-0.17808291245791308,0.40698653198653273,-0.341277356902357,-1.0079440235690234,0.15872264309764259,0.5736531986531986,-0.2562079124579114,-0.08780513468013332,-0.6728745791245797,-0.08433291245791255,0.4560711279461272,0.47690446127946096,0.03751052188552118,0.05266203703703555,-0.29961069023569054,0.25910143097643173,1.0015256734006723,-0.16324705387205407,-0.13862584175084108,0.24584385521885632,-0.5571864478114467,-0.4492319023569031,0.3253893097643105,0.24205597643097593,-0.17808291245791308,0.40698653198653273,-0.341277356902357,-1.0079440235690234,0.15872264309764259,0.5736531986531986,-0.2562079124579114,-0.08780513468013332,-0.6728745791245797,-0.08433291245791255,0.4560711279461272,0.47690446127946096,0.03751052188552118,0.05266203703703555,-0.29961069023569054,0.25910143097643173,1.0015256734006723,-0.16324705387205407,-0.13862584175084108,0.24584385521885632,-0.5571864478114467,-0.4492319023569031,0.3253893097643105,0.24205597643097593,-0.17808291245791308,0.40698653198653273,-0.341277356902357,-1.0079440235690234,0.15872264309764259,0.5736531986531986,-0.2562079124579114,-0.08780513468013332,-0.6728745791245797,-0.08433291245791255,0.4560711279461272,0.47690446127946096,0.03751052188552118,0.05266203703703555,-0.29961069023569054,0.25910143097643173,1.0015256734006723,-0.16324705387205407,-0.13862584175084108,0.24584385521885632,-0.5571864478114467,-0.4492319023569031,0.3253893097643105,0.24205597643097593,-0.17808291245791308,0.40698653198653273,-0.341277356902357,-1.0079440235690234,0.15872264309764259,0.5736531986531986,-0.2562079124579114,-0.08780513468013332,-0.6728745791245797,-0.08433291245791255,0.4560711279461272,0.47690446127946096,0.03751052188552118,0.05266203703703555,-0.29961069023569054,0.25910143097643173,1.0015256734006723,-0.16324705387205407,-0.13862584175084108,0.24584385521885632,-0.5571864478114467,-0.4492319023569031],\"type\":\"scatter\"}],                        {\"template\":{\"data\":{\"histogram2dcontour\":[{\"type\":\"histogram2dcontour\",\"colorbar\":{\"outlinewidth\":0,\"ticks\":\"\"},\"colorscale\":[[0.0,\"#0d0887\"],[0.1111111111111111,\"#46039f\"],[0.2222222222222222,\"#7201a8\"],[0.3333333333333333,\"#9c179e\"],[0.4444444444444444,\"#bd3786\"],[0.5555555555555556,\"#d8576b\"],[0.6666666666666666,\"#ed7953\"],[0.7777777777777778,\"#fb9f3a\"],[0.8888888888888888,\"#fdca26\"],[1.0,\"#f0f921\"]]}],\"choropleth\":[{\"type\":\"choropleth\",\"colorbar\":{\"outlinewidth\":0,\"ticks\":\"\"}}],\"histogram2d\":[{\"type\":\"histogram2d\",\"colorbar\":{\"outlinewidth\":0,\"ticks\":\"\"},\"colorscale\":[[0.0,\"#0d0887\"],[0.1111111111111111,\"#46039f\"],[0.2222222222222222,\"#7201a8\"],[0.3333333333333333,\"#9c179e\"],[0.4444444444444444,\"#bd3786\"],[0.5555555555555556,\"#d8576b\"],[0.6666666666666666,\"#ed7953\"],[0.7777777777777778,\"#fb9f3a\"],[0.8888888888888888,\"#fdca26\"],[1.0,\"#f0f921\"]]}],\"heatmap\":[{\"type\":\"heatmap\",\"colorbar\":{\"outlinewidth\":0,\"ticks\":\"\"},\"colorscale\":[[0.0,\"#0d0887\"],[0.1111111111111111,\"#46039f\"],[0.2222222222222222,\"#7201a8\"],[0.3333333333333333,\"#9c179e\"],[0.4444444444444444,\"#bd3786\"],[0.5555555555555556,\"#d8576b\"],[0.6666666666666666,\"#ed7953\"],[0.7777777777777778,\"#fb9f3a\"],[0.8888888888888888,\"#fdca26\"],[1.0,\"#f0f921\"]]}],\"heatmapgl\":[{\"type\":\"heatmapgl\",\"colorbar\":{\"outlinewidth\":0,\"ticks\":\"\"},\"colorscale\":[[0.0,\"#0d0887\"],[0.1111111111111111,\"#46039f\"],[0.2222222222222222,\"#7201a8\"],[0.3333333333333333,\"#9c179e\"],[0.4444444444444444,\"#bd3786\"],[0.5555555555555556,\"#d8576b\"],[0.6666666666666666,\"#ed7953\"],[0.7777777777777778,\"#fb9f3a\"],[0.8888888888888888,\"#fdca26\"],[1.0,\"#f0f921\"]]}],\"contourcarpet\":[{\"type\":\"contourcarpet\",\"colorbar\":{\"outlinewidth\":0,\"ticks\":\"\"}}],\"contour\":[{\"type\":\"contour\",\"colorbar\":{\"outlinewidth\":0,\"ticks\":\"\"},\"colorscale\":[[0.0,\"#0d0887\"],[0.1111111111111111,\"#46039f\"],[0.2222222222222222,\"#7201a8\"],[0.3333333333333333,\"#9c179e\"],[0.4444444444444444,\"#bd3786\"],[0.5555555555555556,\"#d8576b\"],[0.6666666666666666,\"#ed7953\"],[0.7777777777777778,\"#fb9f3a\"],[0.8888888888888888,\"#fdca26\"],[1.0,\"#f0f921\"]]}],\"surface\":[{\"type\":\"surface\",\"colorbar\":{\"outlinewidth\":0,\"ticks\":\"\"},\"colorscale\":[[0.0,\"#0d0887\"],[0.1111111111111111,\"#46039f\"],[0.2222222222222222,\"#7201a8\"],[0.3333333333333333,\"#9c179e\"],[0.4444444444444444,\"#bd3786\"],[0.5555555555555556,\"#d8576b\"],[0.6666666666666666,\"#ed7953\"],[0.7777777777777778,\"#fb9f3a\"],[0.8888888888888888,\"#fdca26\"],[1.0,\"#f0f921\"]]}],\"mesh3d\":[{\"type\":\"mesh3d\",\"colorbar\":{\"outlinewidth\":0,\"ticks\":\"\"}}],\"scatter\":[{\"fillpattern\":{\"fillmode\":\"overlay\",\"size\":10,\"solidity\":0.2},\"type\":\"scatter\"}],\"parcoords\":[{\"type\":\"parcoords\",\"line\":{\"colorbar\":{\"outlinewidth\":0,\"ticks\":\"\"}}}],\"scatterpolargl\":[{\"type\":\"scatterpolargl\",\"marker\":{\"colorbar\":{\"outlinewidth\":0,\"ticks\":\"\"}}}],\"bar\":[{\"error_x\":{\"color\":\"#2a3f5f\"},\"error_y\":{\"color\":\"#2a3f5f\"},\"marker\":{\"line\":{\"color\":\"#E5ECF6\",\"width\":0.5},\"pattern\":{\"fillmode\":\"overlay\",\"size\":10,\"solidity\":0.2}},\"type\":\"bar\"}],\"scattergeo\":[{\"type\":\"scattergeo\",\"marker\":{\"colorbar\":{\"outlinewidth\":0,\"ticks\":\"\"}}}],\"scatterpolar\":[{\"type\":\"scatterpolar\",\"marker\":{\"colorbar\":{\"outlinewidth\":0,\"ticks\":\"\"}}}],\"histogram\":[{\"marker\":{\"pattern\":{\"fillmode\":\"overlay\",\"size\":10,\"solidity\":0.2}},\"type\":\"histogram\"}],\"scattergl\":[{\"type\":\"scattergl\",\"marker\":{\"colorbar\":{\"outlinewidth\":0,\"ticks\":\"\"}}}],\"scatter3d\":[{\"type\":\"scatter3d\",\"line\":{\"colorbar\":{\"outlinewidth\":0,\"ticks\":\"\"}},\"marker\":{\"colorbar\":{\"outlinewidth\":0,\"ticks\":\"\"}}}],\"scattermapbox\":[{\"type\":\"scattermapbox\",\"marker\":{\"colorbar\":{\"outlinewidth\":0,\"ticks\":\"\"}}}],\"scatterternary\":[{\"type\":\"scatterternary\",\"marker\":{\"colorbar\":{\"outlinewidth\":0,\"ticks\":\"\"}}}],\"scattercarpet\":[{\"type\":\"scattercarpet\",\"marker\":{\"colorbar\":{\"outlinewidth\":0,\"ticks\":\"\"}}}],\"carpet\":[{\"aaxis\":{\"endlinecolor\":\"#2a3f5f\",\"gridcolor\":\"white\",\"linecolor\":\"white\",\"minorgridcolor\":\"white\",\"startlinecolor\":\"#2a3f5f\"},\"baxis\":{\"endlinecolor\":\"#2a3f5f\",\"gridcolor\":\"white\",\"linecolor\":\"white\",\"minorgridcolor\":\"white\",\"startlinecolor\":\"#2a3f5f\"},\"type\":\"carpet\"}],\"table\":[{\"cells\":{\"fill\":{\"color\":\"#EBF0F8\"},\"line\":{\"color\":\"white\"}},\"header\":{\"fill\":{\"color\":\"#C8D4E3\"},\"line\":{\"color\":\"white\"}},\"type\":\"table\"}],\"barpolar\":[{\"marker\":{\"line\":{\"color\":\"#E5ECF6\",\"width\":0.5},\"pattern\":{\"fillmode\":\"overlay\",\"size\":10,\"solidity\":0.2}},\"type\":\"barpolar\"}],\"pie\":[{\"automargin\":true,\"type\":\"pie\"}]},\"layout\":{\"autotypenumbers\":\"strict\",\"colorway\":[\"#636efa\",\"#EF553B\",\"#00cc96\",\"#ab63fa\",\"#FFA15A\",\"#19d3f3\",\"#FF6692\",\"#B6E880\",\"#FF97FF\",\"#FECB52\"],\"font\":{\"color\":\"#2a3f5f\"},\"hovermode\":\"closest\",\"hoverlabel\":{\"align\":\"left\"},\"paper_bgcolor\":\"white\",\"plot_bgcolor\":\"#E5ECF6\",\"polar\":{\"bgcolor\":\"#E5ECF6\",\"angularaxis\":{\"gridcolor\":\"white\",\"linecolor\":\"white\",\"ticks\":\"\"},\"radialaxis\":{\"gridcolor\":\"white\",\"linecolor\":\"white\",\"ticks\":\"\"}},\"ternary\":{\"bgcolor\":\"#E5ECF6\",\"aaxis\":{\"gridcolor\":\"white\",\"linecolor\":\"white\",\"ticks\":\"\"},\"baxis\":{\"gridcolor\":\"white\",\"linecolor\":\"white\",\"ticks\":\"\"},\"caxis\":{\"gridcolor\":\"white\",\"linecolor\":\"white\",\"ticks\":\"\"}},\"coloraxis\":{\"colorbar\":{\"outlinewidth\":0,\"ticks\":\"\"}},\"colorscale\":{\"sequential\":[[0.0,\"#0d0887\"],[0.1111111111111111,\"#46039f\"],[0.2222222222222222,\"#7201a8\"],[0.3333333333333333,\"#9c179e\"],[0.4444444444444444,\"#bd3786\"],[0.5555555555555556,\"#d8576b\"],[0.6666666666666666,\"#ed7953\"],[0.7777777777777778,\"#fb9f3a\"],[0.8888888888888888,\"#fdca26\"],[1.0,\"#f0f921\"]],\"sequentialminus\":[[0.0,\"#0d0887\"],[0.1111111111111111,\"#46039f\"],[0.2222222222222222,\"#7201a8\"],[0.3333333333333333,\"#9c179e\"],[0.4444444444444444,\"#bd3786\"],[0.5555555555555556,\"#d8576b\"],[0.6666666666666666,\"#ed7953\"],[0.7777777777777778,\"#fb9f3a\"],[0.8888888888888888,\"#fdca26\"],[1.0,\"#f0f921\"]],\"diverging\":[[0,\"#8e0152\"],[0.1,\"#c51b7d\"],[0.2,\"#de77ae\"],[0.3,\"#f1b6da\"],[0.4,\"#fde0ef\"],[0.5,\"#f7f7f7\"],[0.6,\"#e6f5d0\"],[0.7,\"#b8e186\"],[0.8,\"#7fbc41\"],[0.9,\"#4d9221\"],[1,\"#276419\"]]},\"xaxis\":{\"gridcolor\":\"white\",\"linecolor\":\"white\",\"ticks\":\"\",\"title\":{\"standoff\":15},\"zerolinecolor\":\"white\",\"automargin\":true,\"zerolinewidth\":2},\"yaxis\":{\"gridcolor\":\"white\",\"linecolor\":\"white\",\"ticks\":\"\",\"title\":{\"standoff\":15},\"zerolinecolor\":\"white\",\"automargin\":true,\"zerolinewidth\":2},\"scene\":{\"xaxis\":{\"backgroundcolor\":\"#E5ECF6\",\"gridcolor\":\"white\",\"linecolor\":\"white\",\"showbackground\":true,\"ticks\":\"\",\"zerolinecolor\":\"white\",\"gridwidth\":2},\"yaxis\":{\"backgroundcolor\":\"#E5ECF6\",\"gridcolor\":\"white\",\"linecolor\":\"white\",\"showbackground\":true,\"ticks\":\"\",\"zerolinecolor\":\"white\",\"gridwidth\":2},\"zaxis\":{\"backgroundcolor\":\"#E5ECF6\",\"gridcolor\":\"white\",\"linecolor\":\"white\",\"showbackground\":true,\"ticks\":\"\",\"zerolinecolor\":\"white\",\"gridwidth\":2}},\"shapedefaults\":{\"line\":{\"color\":\"#2a3f5f\"}},\"annotationdefaults\":{\"arrowcolor\":\"#2a3f5f\",\"arrowhead\":0,\"arrowwidth\":1},\"geo\":{\"bgcolor\":\"white\",\"landcolor\":\"#E5ECF6\",\"subunitcolor\":\"white\",\"showland\":true,\"showlakes\":true,\"lakecolor\":\"white\"},\"title\":{\"x\":0.05},\"mapbox\":{\"style\":\"light\"}}},\"height\":600,\"width\":800,\"showlegend\":true,\"title\":{\"text\":\"Daily Trends Plot\"}},                        {\"responsive\": true}                    ).then(function(){\n",
       "                            \n",
       "var gd = document.getElementById('3e37c835-2bc1-4214-a78c-f5786e852f6c');\n",
       "var x = new MutationObserver(function (mutations, observer) {{\n",
       "        var display = window.getComputedStyle(gd).display;\n",
       "        if (!display || display === 'none') {{\n",
       "            console.log([gd, 'removed!']);\n",
       "            Plotly.purge(gd);\n",
       "            observer.disconnect();\n",
       "        }}\n",
       "}});\n",
       "\n",
       "// Listen for the removal of the full notebook cells\n",
       "var notebookContainer = gd.closest('#notebook-container');\n",
       "if (notebookContainer) {{\n",
       "    x.observe(notebookContainer, {childList: true});\n",
       "}}\n",
       "\n",
       "// Listen for the clearing of the current output cell\n",
       "var outputEl = gd.closest('.output');\n",
       "if (outputEl) {{\n",
       "    x.observe(outputEl, {childList: true});\n",
       "}}\n",
       "\n",
       "                        })                };                });            </script>        </div>"
      ]
     },
     "metadata": {},
     "output_type": "display_data"
    }
   ],
   "source": [
    "import plotly.graph_objects as go\n",
    "from plotly.subplots import make_subplots\n",
    "\n",
    "from sklearn.model_selection import train_test_split \n",
    "train_df, test_df = train_test_split(df, test_size = 0.2, shuffle=False)\n",
    "# Perform additive seasonal decomposition\n",
    "decomposition = sm.tsa.seasonal_decompose(df, model='additive')\n",
    "\n",
    "# Access the decomposed components\n",
    "trend = decomposition.trend\n",
    "seasonal = decomposition.seasonal\n",
    "residual = decomposition.resid\n",
    "\n",
    "fig = go.Figure()\n",
    "fig.add_trace(go.Scatter(x=seasonal.index, y=seasonal, name='Daily Trends'))\n",
    "fig.update_layout(\n",
    "    height=600,\n",
    "    width=800,\n",
    "    showlegend=True,\n",
    "    title='Daily Trends Plot'\n",
    ")\n",
    "fig.show()"
   ]
  },
  {
   "cell_type": "markdown",
   "id": "f0b162f0",
   "metadata": {
    "papermill": {
     "duration": 0.008038,
     "end_time": "2023-07-22T16:02:44.456983",
     "exception": false,
     "start_time": "2023-07-22T16:02:44.448945",
     "status": "completed"
    },
    "tags": []
   },
   "source": [
    "# 3. Optimization Hyper-parameter using SARIMAX"
   ]
  },
  {
   "cell_type": "code",
   "execution_count": 5,
   "id": "c86d76e3",
   "metadata": {
    "execution": {
     "iopub.execute_input": "2023-07-22T16:02:44.475209Z",
     "iopub.status.busy": "2023-07-22T16:02:44.474844Z",
     "iopub.status.idle": "2023-07-22T16:02:44.480154Z",
     "shell.execute_reply": "2023-07-22T16:02:44.478998Z"
    },
    "papermill": {
     "duration": 0.01716,
     "end_time": "2023-07-22T16:02:44.482437",
     "exception": false,
     "start_time": "2023-07-22T16:02:44.465277",
     "status": "completed"
    },
    "tags": []
   },
   "outputs": [],
   "source": [
    "from statsmodels.tsa.arima.model import ARIMA"
   ]
  },
  {
   "cell_type": "code",
   "execution_count": 6,
   "id": "4283c5bb",
   "metadata": {
    "_kg_hide-input": true,
    "_kg_hide-output": true,
    "execution": {
     "iopub.execute_input": "2023-07-22T16:02:44.502556Z",
     "iopub.status.busy": "2023-07-22T16:02:44.502157Z",
     "iopub.status.idle": "2023-07-22T16:02:46.730475Z",
     "shell.execute_reply": "2023-07-22T16:02:46.729322Z"
    },
    "papermill": {
     "duration": 2.242829,
     "end_time": "2023-07-22T16:02:46.733738",
     "exception": false,
     "start_time": "2023-07-22T16:02:44.490909",
     "status": "completed"
    },
    "tags": []
   },
   "outputs": [
    {
     "name": "stdout",
     "output_type": "stream",
     "text": [
      "ARIMA((0, 1, 0)) AIC : 866.04\n",
      "ARIMA((0, 1, 1)) AIC : 796.93\n",
      "ARIMA((0, 1, 2)) AIC : 798.89\n",
      "ARIMA((0, 2, 0)) AIC : 1104.85\n",
      "ARIMA((0, 2, 1)) AIC : 868.13\n"
     ]
    },
    {
     "name": "stderr",
     "output_type": "stream",
     "text": [
      "/opt/conda/lib/python3.10/site-packages/statsmodels/tsa/statespace/sarimax.py:978: UserWarning:\n",
      "\n",
      "Non-invertible starting MA parameters found. Using zeros as starting parameters.\n",
      "\n"
     ]
    },
    {
     "name": "stdout",
     "output_type": "stream",
     "text": [
      "ARIMA((0, 2, 2)) AIC : 732.39\n",
      "ARIMA((1, 1, 0)) AIC : 828.28\n",
      "ARIMA((1, 1, 1)) AIC : 798.9\n",
      "ARIMA((1, 1, 2)) AIC : 797.82\n",
      "ARIMA((1, 2, 0)) AIC : 1002.63\n",
      "ARIMA((1, 2, 1)) AIC : 827.04\n"
     ]
    },
    {
     "name": "stderr",
     "output_type": "stream",
     "text": [
      "/opt/conda/lib/python3.10/site-packages/statsmodels/base/model.py:607: ConvergenceWarning:\n",
      "\n",
      "Maximum Likelihood optimization failed to converge. Check mle_retvals\n",
      "\n"
     ]
    },
    {
     "name": "stdout",
     "output_type": "stream",
     "text": [
      "ARIMA((1, 2, 2)) AIC : 733.55\n",
      "ARIMA((2, 1, 0)) AIC : 803.73\n",
      "ARIMA((2, 1, 1)) AIC : 797.28\n",
      "ARIMA((2, 1, 2)) AIC : 739.41\n",
      "ARIMA((2, 2, 0)) AIC : 929.63\n",
      "ARIMA((2, 2, 1)) AIC : 795.49\n",
      "ARIMA((2, 2, 2)) AIC : 732.66\n"
     ]
    }
   ],
   "source": [
    "import itertools\n",
    "limit = 3\n",
    "pdq = list(itertools.product(range(0, limit), range(1, limit), range(0, limit)))\n",
    "\n",
    "aic, number = [],[]\n",
    "number = []\n",
    "for i in pdq:\n",
    "    # Training the model\n",
    "    model = ARIMA(train_df.values, order=(i))\n",
    "    model_fit = model.fit()\n",
    "    # Consolidate training label and metrics\n",
    "    print(f'ARIMA({i}) AIC : {round(model_fit.aic,2)}')\n",
    "    aic.append(round(model_fit.aic, 2))\n",
    "    number.append(i)\n",
    "    \n",
    "model = ARIMA(train_df.values, order=number[aic.index(min(aic))])\n",
    "model_fit = model.fit()\n",
    "prediction = model_fit.forecast(len(test_df))\n",
    "prediction_value = prediction\n",
    "prediction_index = list(test_df.index)"
   ]
  },
  {
   "cell_type": "code",
   "execution_count": 7,
   "id": "89b04cd8",
   "metadata": {
    "execution": {
     "iopub.execute_input": "2023-07-22T16:02:46.755455Z",
     "iopub.status.busy": "2023-07-22T16:02:46.753502Z",
     "iopub.status.idle": "2023-07-22T16:02:46.764160Z",
     "shell.execute_reply": "2023-07-22T16:02:46.763068Z"
    },
    "papermill": {
     "duration": 0.024242,
     "end_time": "2023-07-22T16:02:46.767085",
     "exception": false,
     "start_time": "2023-07-22T16:02:46.742843",
     "status": "completed"
    },
    "tags": []
   },
   "outputs": [
    {
     "data": {
      "text/plain": [
       "(0, 2, 2)"
      ]
     },
     "execution_count": 7,
     "metadata": {},
     "output_type": "execute_result"
    }
   ],
   "source": [
    "number[aic.index(min(aic))]"
   ]
  },
  {
   "cell_type": "code",
   "execution_count": 8,
   "id": "fb4c0c10",
   "metadata": {
    "execution": {
     "iopub.execute_input": "2023-07-22T16:02:46.787515Z",
     "iopub.status.busy": "2023-07-22T16:02:46.787100Z",
     "iopub.status.idle": "2023-07-22T16:02:46.818222Z",
     "shell.execute_reply": "2023-07-22T16:02:46.816860Z"
    },
    "papermill": {
     "duration": 0.045397,
     "end_time": "2023-07-22T16:02:46.821794",
     "exception": false,
     "start_time": "2023-07-22T16:02:46.776397",
     "status": "completed"
    },
    "tags": []
   },
   "outputs": [
    {
     "data": {
      "text/html": [
       "<table class=\"simpletable\">\n",
       "<caption>SARIMAX Results</caption>\n",
       "<tr>\n",
       "  <th>Dep. Variable:</th>           <td>y</td>        <th>  No. Observations:  </th>    <td>240</td>  \n",
       "</tr>\n",
       "<tr>\n",
       "  <th>Model:</th>            <td>ARIMA(0, 2, 2)</td>  <th>  Log Likelihood     </th> <td>-363.195</td>\n",
       "</tr>\n",
       "<tr>\n",
       "  <th>Date:</th>            <td>Sat, 22 Jul 2023</td> <th>  AIC                </th>  <td>732.390</td>\n",
       "</tr>\n",
       "<tr>\n",
       "  <th>Time:</th>                <td>16:02:46</td>     <th>  BIC                </th>  <td>742.807</td>\n",
       "</tr>\n",
       "<tr>\n",
       "  <th>Sample:</th>                  <td>0</td>        <th>  HQIC               </th>  <td>736.589</td>\n",
       "</tr>\n",
       "<tr>\n",
       "  <th></th>                      <td> - 240</td>      <th>                     </th>     <td> </td>   \n",
       "</tr>\n",
       "<tr>\n",
       "  <th>Covariance Type:</th>        <td>opg</td>       <th>                     </th>     <td> </td>   \n",
       "</tr>\n",
       "</table>\n",
       "<table class=\"simpletable\">\n",
       "<tr>\n",
       "     <td></td>       <th>coef</th>     <th>std err</th>      <th>z</th>      <th>P>|z|</th>  <th>[0.025</th>    <th>0.975]</th>  \n",
       "</tr>\n",
       "<tr>\n",
       "  <th>ma.L1</th>  <td>   -1.9978</td> <td>    2.545</td> <td>   -0.785</td> <td> 0.433</td> <td>   -6.987</td> <td>    2.991</td>\n",
       "</tr>\n",
       "<tr>\n",
       "  <th>ma.L2</th>  <td>    0.9978</td> <td>    2.539</td> <td>    0.393</td> <td> 0.694</td> <td>   -3.979</td> <td>    5.974</td>\n",
       "</tr>\n",
       "<tr>\n",
       "  <th>sigma2</th> <td>    1.1452</td> <td>    2.927</td> <td>    0.391</td> <td> 0.696</td> <td>   -4.591</td> <td>    6.882</td>\n",
       "</tr>\n",
       "</table>\n",
       "<table class=\"simpletable\">\n",
       "<tr>\n",
       "  <th>Ljung-Box (L1) (Q):</th>     <td>1.28</td> <th>  Jarque-Bera (JB):  </th> <td>9.41</td> \n",
       "</tr>\n",
       "<tr>\n",
       "  <th>Prob(Q):</th>                <td>0.26</td> <th>  Prob(JB):          </th> <td>0.01</td> \n",
       "</tr>\n",
       "<tr>\n",
       "  <th>Heteroskedasticity (H):</th> <td>1.24</td> <th>  Skew:              </th> <td>-0.08</td>\n",
       "</tr>\n",
       "<tr>\n",
       "  <th>Prob(H) (two-sided):</th>    <td>0.34</td> <th>  Kurtosis:          </th> <td>2.04</td> \n",
       "</tr>\n",
       "</table><br/><br/>Warnings:<br/>[1] Covariance matrix calculated using the outer product of gradients (complex-step)."
      ],
      "text/latex": [
       "\\begin{center}\n",
       "\\begin{tabular}{lclc}\n",
       "\\toprule\n",
       "\\textbf{Dep. Variable:}          &        y         & \\textbf{  No. Observations:  } &    240      \\\\\n",
       "\\textbf{Model:}                  &  ARIMA(0, 2, 2)  & \\textbf{  Log Likelihood     } &  -363.195   \\\\\n",
       "\\textbf{Date:}                   & Sat, 22 Jul 2023 & \\textbf{  AIC                } &  732.390    \\\\\n",
       "\\textbf{Time:}                   &     16:02:46     & \\textbf{  BIC                } &  742.807    \\\\\n",
       "\\textbf{Sample:}                 &        0         & \\textbf{  HQIC               } &  736.589    \\\\\n",
       "\\textbf{}                        &       - 240      & \\textbf{                     } &             \\\\\n",
       "\\textbf{Covariance Type:}        &       opg        & \\textbf{                     } &             \\\\\n",
       "\\bottomrule\n",
       "\\end{tabular}\n",
       "\\begin{tabular}{lcccccc}\n",
       "                & \\textbf{coef} & \\textbf{std err} & \\textbf{z} & \\textbf{P$> |$z$|$} & \\textbf{[0.025} & \\textbf{0.975]}  \\\\\n",
       "\\midrule\n",
       "\\textbf{ma.L1}  &      -1.9978  &        2.545     &    -0.785  &         0.433        &       -6.987    &        2.991     \\\\\n",
       "\\textbf{ma.L2}  &       0.9978  &        2.539     &     0.393  &         0.694        &       -3.979    &        5.974     \\\\\n",
       "\\textbf{sigma2} &       1.1452  &        2.927     &     0.391  &         0.696        &       -4.591    &        6.882     \\\\\n",
       "\\bottomrule\n",
       "\\end{tabular}\n",
       "\\begin{tabular}{lclc}\n",
       "\\textbf{Ljung-Box (L1) (Q):}     & 1.28 & \\textbf{  Jarque-Bera (JB):  } &  9.41  \\\\\n",
       "\\textbf{Prob(Q):}                & 0.26 & \\textbf{  Prob(JB):          } &  0.01  \\\\\n",
       "\\textbf{Heteroskedasticity (H):} & 1.24 & \\textbf{  Skew:              } & -0.08  \\\\\n",
       "\\textbf{Prob(H) (two-sided):}    & 0.34 & \\textbf{  Kurtosis:          } &  2.04  \\\\\n",
       "\\bottomrule\n",
       "\\end{tabular}\n",
       "%\\caption{SARIMAX Results}\n",
       "\\end{center}\n",
       "\n",
       "Warnings: \\newline\n",
       " [1] Covariance matrix calculated using the outer product of gradients (complex-step)."
      ],
      "text/plain": [
       "<class 'statsmodels.iolib.summary.Summary'>\n",
       "\"\"\"\n",
       "                               SARIMAX Results                                \n",
       "==============================================================================\n",
       "Dep. Variable:                      y   No. Observations:                  240\n",
       "Model:                 ARIMA(0, 2, 2)   Log Likelihood                -363.195\n",
       "Date:                Sat, 22 Jul 2023   AIC                            732.390\n",
       "Time:                        16:02:46   BIC                            742.807\n",
       "Sample:                             0   HQIC                           736.589\n",
       "                                - 240                                         \n",
       "Covariance Type:                  opg                                         \n",
       "==============================================================================\n",
       "                 coef    std err          z      P>|z|      [0.025      0.975]\n",
       "------------------------------------------------------------------------------\n",
       "ma.L1         -1.9978      2.545     -0.785      0.433      -6.987       2.991\n",
       "ma.L2          0.9978      2.539      0.393      0.694      -3.979       5.974\n",
       "sigma2         1.1452      2.927      0.391      0.696      -4.591       6.882\n",
       "===================================================================================\n",
       "Ljung-Box (L1) (Q):                   1.28   Jarque-Bera (JB):                 9.41\n",
       "Prob(Q):                              0.26   Prob(JB):                         0.01\n",
       "Heteroskedasticity (H):               1.24   Skew:                            -0.08\n",
       "Prob(H) (two-sided):                  0.34   Kurtosis:                         2.04\n",
       "===================================================================================\n",
       "\n",
       "Warnings:\n",
       "[1] Covariance matrix calculated using the outer product of gradients (complex-step).\n",
       "\"\"\""
      ]
     },
     "execution_count": 8,
     "metadata": {},
     "output_type": "execute_result"
    }
   ],
   "source": [
    "model_fit.summary()"
   ]
  },
  {
   "cell_type": "code",
   "execution_count": 9,
   "id": "8c349be8",
   "metadata": {
    "execution": {
     "iopub.execute_input": "2023-07-22T16:02:46.843318Z",
     "iopub.status.busy": "2023-07-22T16:02:46.842911Z",
     "iopub.status.idle": "2023-07-22T16:02:46.949874Z",
     "shell.execute_reply": "2023-07-22T16:02:46.948789Z"
    },
    "papermill": {
     "duration": 0.120934,
     "end_time": "2023-07-22T16:02:46.952249",
     "exception": false,
     "start_time": "2023-07-22T16:02:46.831315",
     "status": "completed"
    },
    "tags": []
   },
   "outputs": [
    {
     "data": {
      "text/html": [
       "<div>                            <div id=\"7d3071ab-bc2f-4e78-80b1-84d245644a70\" class=\"plotly-graph-div\" style=\"height:400px; width:800px;\"></div>            <script type=\"text/javascript\">                require([\"plotly\"], function(Plotly) {                    window.PLOTLYENV=window.PLOTLYENV || {};                                    if (document.getElementById(\"7d3071ab-bc2f-4e78-80b1-84d245644a70\")) {                    Plotly.newPlot(                        \"7d3071ab-bc2f-4e78-80b1-84d245644a70\",                        [{\"name\":\"Train Data\",\"x\":[\"2023-01-01T00:00:00\",\"2023-01-01T01:00:00\",\"2023-01-01T02:00:00\",\"2023-01-01T03:00:00\",\"2023-01-01T04:00:00\",\"2023-01-01T05:00:00\",\"2023-01-01T06:00:00\",\"2023-01-01T07:00:00\",\"2023-01-01T08:00:00\",\"2023-01-01T09:00:00\",\"2023-01-01T10:00:00\",\"2023-01-01T11:00:00\",\"2023-01-01T12:00:00\",\"2023-01-01T13:00:00\",\"2023-01-01T14:00:00\",\"2023-01-01T15:00:00\",\"2023-01-01T16:00:00\",\"2023-01-01T17:00:00\",\"2023-01-01T18:00:00\",\"2023-01-01T19:00:00\",\"2023-01-01T20:00:00\",\"2023-01-01T21:00:00\",\"2023-01-01T22:00:00\",\"2023-01-01T23:00:00\",\"2023-01-02T00:00:00\",\"2023-01-02T01:00:00\",\"2023-01-02T02:00:00\",\"2023-01-02T03:00:00\",\"2023-01-02T04:00:00\",\"2023-01-02T05:00:00\",\"2023-01-02T06:00:00\",\"2023-01-02T07:00:00\",\"2023-01-02T08:00:00\",\"2023-01-02T09:00:00\",\"2023-01-02T10:00:00\",\"2023-01-02T11:00:00\",\"2023-01-02T12:00:00\",\"2023-01-02T13:00:00\",\"2023-01-02T14:00:00\",\"2023-01-02T15:00:00\",\"2023-01-02T16:00:00\",\"2023-01-02T17:00:00\",\"2023-01-02T18:00:00\",\"2023-01-02T19:00:00\",\"2023-01-02T20:00:00\",\"2023-01-02T21:00:00\",\"2023-01-02T22:00:00\",\"2023-01-02T23:00:00\",\"2023-01-03T00:00:00\",\"2023-01-03T01:00:00\",\"2023-01-03T02:00:00\",\"2023-01-03T03:00:00\",\"2023-01-03T04:00:00\",\"2023-01-03T05:00:00\",\"2023-01-03T06:00:00\",\"2023-01-03T07:00:00\",\"2023-01-03T08:00:00\",\"2023-01-03T09:00:00\",\"2023-01-03T10:00:00\",\"2023-01-03T11:00:00\",\"2023-01-03T12:00:00\",\"2023-01-03T13:00:00\",\"2023-01-03T14:00:00\",\"2023-01-03T15:00:00\",\"2023-01-03T16:00:00\",\"2023-01-03T17:00:00\",\"2023-01-03T18:00:00\",\"2023-01-03T19:00:00\",\"2023-01-03T20:00:00\",\"2023-01-03T21:00:00\",\"2023-01-03T22:00:00\",\"2023-01-03T23:00:00\",\"2023-01-04T00:00:00\",\"2023-01-04T01:00:00\",\"2023-01-04T02:00:00\",\"2023-01-04T03:00:00\",\"2023-01-04T04:00:00\",\"2023-01-04T05:00:00\",\"2023-01-04T06:00:00\",\"2023-01-04T07:00:00\",\"2023-01-04T08:00:00\",\"2023-01-04T09:00:00\",\"2023-01-04T10:00:00\",\"2023-01-04T11:00:00\",\"2023-01-04T12:00:00\",\"2023-01-04T13:00:00\",\"2023-01-04T14:00:00\",\"2023-01-04T15:00:00\",\"2023-01-04T16:00:00\",\"2023-01-04T17:00:00\",\"2023-01-04T18:00:00\",\"2023-01-04T19:00:00\",\"2023-01-04T20:00:00\",\"2023-01-04T21:00:00\",\"2023-01-04T22:00:00\",\"2023-01-04T23:00:00\",\"2023-01-05T00:00:00\",\"2023-01-05T01:00:00\",\"2023-01-05T02:00:00\",\"2023-01-05T03:00:00\",\"2023-01-05T04:00:00\",\"2023-01-05T05:00:00\",\"2023-01-05T06:00:00\",\"2023-01-05T07:00:00\",\"2023-01-05T08:00:00\",\"2023-01-05T09:00:00\",\"2023-01-05T10:00:00\",\"2023-01-05T11:00:00\",\"2023-01-05T12:00:00\",\"2023-01-05T13:00:00\",\"2023-01-05T14:00:00\",\"2023-01-05T15:00:00\",\"2023-01-05T16:00:00\",\"2023-01-05T17:00:00\",\"2023-01-05T18:00:00\",\"2023-01-05T19:00:00\",\"2023-01-05T20:00:00\",\"2023-01-05T21:00:00\",\"2023-01-05T22:00:00\",\"2023-01-05T23:00:00\",\"2023-01-06T00:00:00\",\"2023-01-06T01:00:00\",\"2023-01-06T02:00:00\",\"2023-01-06T03:00:00\",\"2023-01-06T04:00:00\",\"2023-01-06T05:00:00\",\"2023-01-06T06:00:00\",\"2023-01-06T07:00:00\",\"2023-01-06T08:00:00\",\"2023-01-06T09:00:00\",\"2023-01-06T10:00:00\",\"2023-01-06T11:00:00\",\"2023-01-06T12:00:00\",\"2023-01-06T13:00:00\",\"2023-01-06T14:00:00\",\"2023-01-06T15:00:00\",\"2023-01-06T16:00:00\",\"2023-01-06T17:00:00\",\"2023-01-06T18:00:00\",\"2023-01-06T19:00:00\",\"2023-01-06T20:00:00\",\"2023-01-06T21:00:00\",\"2023-01-06T22:00:00\",\"2023-01-06T23:00:00\",\"2023-01-07T00:00:00\",\"2023-01-07T01:00:00\",\"2023-01-07T02:00:00\",\"2023-01-07T03:00:00\",\"2023-01-07T04:00:00\",\"2023-01-07T05:00:00\",\"2023-01-07T06:00:00\",\"2023-01-07T07:00:00\",\"2023-01-07T08:00:00\",\"2023-01-07T09:00:00\",\"2023-01-07T10:00:00\",\"2023-01-07T11:00:00\",\"2023-01-07T12:00:00\",\"2023-01-07T13:00:00\",\"2023-01-07T14:00:00\",\"2023-01-07T15:00:00\",\"2023-01-07T16:00:00\",\"2023-01-07T17:00:00\",\"2023-01-07T18:00:00\",\"2023-01-07T19:00:00\",\"2023-01-07T20:00:00\",\"2023-01-07T21:00:00\",\"2023-01-07T22:00:00\",\"2023-01-07T23:00:00\",\"2023-01-08T00:00:00\",\"2023-01-08T01:00:00\",\"2023-01-08T02:00:00\",\"2023-01-08T03:00:00\",\"2023-01-08T04:00:00\",\"2023-01-08T05:00:00\",\"2023-01-08T06:00:00\",\"2023-01-08T07:00:00\",\"2023-01-08T08:00:00\",\"2023-01-08T09:00:00\",\"2023-01-08T10:00:00\",\"2023-01-08T11:00:00\",\"2023-01-08T12:00:00\",\"2023-01-08T13:00:00\",\"2023-01-08T14:00:00\",\"2023-01-08T15:00:00\",\"2023-01-08T16:00:00\",\"2023-01-08T17:00:00\",\"2023-01-08T18:00:00\",\"2023-01-08T19:00:00\",\"2023-01-08T20:00:00\",\"2023-01-08T21:00:00\",\"2023-01-08T22:00:00\",\"2023-01-08T23:00:00\",\"2023-01-09T00:00:00\",\"2023-01-09T01:00:00\",\"2023-01-09T02:00:00\",\"2023-01-09T03:00:00\",\"2023-01-09T04:00:00\",\"2023-01-09T05:00:00\",\"2023-01-09T06:00:00\",\"2023-01-09T07:00:00\",\"2023-01-09T08:00:00\",\"2023-01-09T09:00:00\",\"2023-01-09T10:00:00\",\"2023-01-09T11:00:00\",\"2023-01-09T12:00:00\",\"2023-01-09T13:00:00\",\"2023-01-09T14:00:00\",\"2023-01-09T15:00:00\",\"2023-01-09T16:00:00\",\"2023-01-09T17:00:00\",\"2023-01-09T18:00:00\",\"2023-01-09T19:00:00\",\"2023-01-09T20:00:00\",\"2023-01-09T21:00:00\",\"2023-01-09T22:00:00\",\"2023-01-09T23:00:00\",\"2023-01-10T00:00:00\",\"2023-01-10T01:00:00\",\"2023-01-10T02:00:00\",\"2023-01-10T03:00:00\",\"2023-01-10T04:00:00\",\"2023-01-10T05:00:00\",\"2023-01-10T06:00:00\",\"2023-01-10T07:00:00\",\"2023-01-10T08:00:00\",\"2023-01-10T09:00:00\",\"2023-01-10T10:00:00\",\"2023-01-10T11:00:00\",\"2023-01-10T12:00:00\",\"2023-01-10T13:00:00\",\"2023-01-10T14:00:00\",\"2023-01-10T15:00:00\",\"2023-01-10T16:00:00\",\"2023-01-10T17:00:00\",\"2023-01-10T18:00:00\",\"2023-01-10T19:00:00\",\"2023-01-10T20:00:00\",\"2023-01-10T21:00:00\",\"2023-01-10T22:00:00\",\"2023-01-10T23:00:00\"],\"y\":[4,1,1,3,2,4,3,3,5,3,3,5,6,6,5,6,4,4,4,6,7,6,5,7,6,5,7,6,7,7,7,6,6,8,8,6,8,8,9,9,7,8,10,10,11,11,8,11,10,11,11,11,10,11,12,10,11,13,13,11,12,12,12,13,12,14,12,15,14,15,14,13,13,13,14,15,15,16,16,14,15,16,17,16,18,17,15,15,18,17,18,19,18,17,16,18,20,19,18,20,19,20,21,20,21,21,19,21,20,21,22,21,21,19,20,23,22,21,21,21,22,24,21,22,21,23,25,22,24,24,24,24,26,25,23,25,24,24,27,25,25,26,26,27,26,27,27,27,25,28,29,29,27,27,26,28,28,28,30,28,28,28,28,29,28,28,30,29,31,30,29,31,31,32,31,32,31,30,30,33,32,31,32,33,31,33,34,34,32,33,32,33,36,35,36,34,36,33,37,37,35,36,35,36,35,35,35,37,38,35,38,39,38,39,37,37,38,39,38,39,39,39,40,38,40,40,38,38,42,40,41,42,42,39,42,41,40,41,43,42],\"type\":\"scatter\"},{\"line\":{\"color\":\"red\"},\"name\":\"Prediction\",\"x\":[\"2023-01-11T00:00:00\",\"2023-01-11T01:00:00\",\"2023-01-11T02:00:00\",\"2023-01-11T03:00:00\",\"2023-01-11T04:00:00\",\"2023-01-11T05:00:00\",\"2023-01-11T06:00:00\",\"2023-01-11T07:00:00\",\"2023-01-11T08:00:00\",\"2023-01-11T09:00:00\",\"2023-01-11T10:00:00\",\"2023-01-11T11:00:00\",\"2023-01-11T12:00:00\",\"2023-01-11T13:00:00\",\"2023-01-11T14:00:00\",\"2023-01-11T15:00:00\",\"2023-01-11T16:00:00\",\"2023-01-11T17:00:00\",\"2023-01-11T18:00:00\",\"2023-01-11T19:00:00\",\"2023-01-11T20:00:00\",\"2023-01-11T21:00:00\",\"2023-01-11T22:00:00\",\"2023-01-11T23:00:00\",\"2023-01-12T00:00:00\",\"2023-01-12T01:00:00\",\"2023-01-12T02:00:00\",\"2023-01-12T03:00:00\",\"2023-01-12T04:00:00\",\"2023-01-12T05:00:00\",\"2023-01-12T06:00:00\",\"2023-01-12T07:00:00\",\"2023-01-12T08:00:00\",\"2023-01-12T09:00:00\",\"2023-01-12T10:00:00\",\"2023-01-12T11:00:00\",\"2023-01-12T12:00:00\",\"2023-01-12T13:00:00\",\"2023-01-12T14:00:00\",\"2023-01-12T15:00:00\",\"2023-01-12T16:00:00\",\"2023-01-12T17:00:00\",\"2023-01-12T18:00:00\",\"2023-01-12T19:00:00\",\"2023-01-12T20:00:00\",\"2023-01-12T21:00:00\",\"2023-01-12T22:00:00\",\"2023-01-12T23:00:00\",\"2023-01-13T00:00:00\",\"2023-01-13T01:00:00\",\"2023-01-13T02:00:00\",\"2023-01-13T03:00:00\",\"2023-01-13T04:00:00\",\"2023-01-13T05:00:00\",\"2023-01-13T06:00:00\",\"2023-01-13T07:00:00\",\"2023-01-13T08:00:00\",\"2023-01-13T09:00:00\",\"2023-01-13T10:00:00\",\"2023-01-13T11:00:00\"],\"y\":[42.047048603652144,42.21272371128634,42.37839881892053,42.544073926554724,42.70974903418892,42.87542414182311,43.041099249457304,43.2067743570915,43.37244946472569,43.538124572359884,43.70379967999408,43.86947478762827,44.035149895262464,44.20082500289666,44.36650011053085,44.532175218165044,44.69785032579924,44.86352543343343,45.029200541067624,45.19487564870182,45.36055075633601,45.526225863970204,45.6919009716044,45.85757607923859,46.023251186872784,46.18892629450698,46.35460140214117,46.520276509775364,46.68595161740956,46.85162672504375,47.017301832677944,47.18297694031214,47.34865204794633,47.514327155580524,47.68000226321472,47.84567737084891,48.011352478483104,48.1770275861173,48.34270269375149,48.508377801385684,48.67405290901988,48.83972801665407,49.005403124288264,49.17107823192246,49.33675333955665,49.502428447190844,49.66810355482504,49.83377866245923,49.999453770093425,50.16512887772762,50.33080398536181,50.496479092996005,50.6621542006302,50.82782930826439,50.993504415898585,51.15917952353278,51.32485463116697,51.490529738801165,51.65620484643536,51.82187995406955],\"type\":\"scatter\"},{\"line\":{\"color\":\"orange\",\"dash\":\"dash\"},\"name\":\"Real Visit Data\",\"x\":[\"2023-01-11T00:00:00\",\"2023-01-11T01:00:00\",\"2023-01-11T02:00:00\",\"2023-01-11T03:00:00\",\"2023-01-11T04:00:00\",\"2023-01-11T05:00:00\",\"2023-01-11T06:00:00\",\"2023-01-11T07:00:00\",\"2023-01-11T08:00:00\",\"2023-01-11T09:00:00\",\"2023-01-11T10:00:00\",\"2023-01-11T11:00:00\",\"2023-01-11T12:00:00\",\"2023-01-11T13:00:00\",\"2023-01-11T14:00:00\",\"2023-01-11T15:00:00\",\"2023-01-11T16:00:00\",\"2023-01-11T17:00:00\",\"2023-01-11T18:00:00\",\"2023-01-11T19:00:00\",\"2023-01-11T20:00:00\",\"2023-01-11T21:00:00\",\"2023-01-11T22:00:00\",\"2023-01-11T23:00:00\",\"2023-01-12T00:00:00\",\"2023-01-12T01:00:00\",\"2023-01-12T02:00:00\",\"2023-01-12T03:00:00\",\"2023-01-12T04:00:00\",\"2023-01-12T05:00:00\",\"2023-01-12T06:00:00\",\"2023-01-12T07:00:00\",\"2023-01-12T08:00:00\",\"2023-01-12T09:00:00\",\"2023-01-12T10:00:00\",\"2023-01-12T11:00:00\",\"2023-01-12T12:00:00\",\"2023-01-12T13:00:00\",\"2023-01-12T14:00:00\",\"2023-01-12T15:00:00\",\"2023-01-12T16:00:00\",\"2023-01-12T17:00:00\",\"2023-01-12T18:00:00\",\"2023-01-12T19:00:00\",\"2023-01-12T20:00:00\",\"2023-01-12T21:00:00\",\"2023-01-12T22:00:00\",\"2023-01-12T23:00:00\",\"2023-01-13T00:00:00\",\"2023-01-13T01:00:00\",\"2023-01-13T02:00:00\",\"2023-01-13T03:00:00\",\"2023-01-13T04:00:00\",\"2023-01-13T05:00:00\",\"2023-01-13T06:00:00\",\"2023-01-13T07:00:00\",\"2023-01-13T08:00:00\",\"2023-01-13T09:00:00\",\"2023-01-13T10:00:00\",\"2023-01-13T11:00:00\"],\"y\":[43,44,43,44,41,44,44,42,45,44,43,43,44,46,43,46,43,44,46,46,44,44,45,47,48,48,48,45,48,47,48,49,46,48,47,47,47,50,49,50,50,47,49,48,48,50,49,50,50,51,49,50,50,52,51,52,50,53,50,51],\"type\":\"scatter\"}],                        {\"template\":{\"data\":{\"histogram2dcontour\":[{\"type\":\"histogram2dcontour\",\"colorbar\":{\"outlinewidth\":0,\"ticks\":\"\"},\"colorscale\":[[0.0,\"#0d0887\"],[0.1111111111111111,\"#46039f\"],[0.2222222222222222,\"#7201a8\"],[0.3333333333333333,\"#9c179e\"],[0.4444444444444444,\"#bd3786\"],[0.5555555555555556,\"#d8576b\"],[0.6666666666666666,\"#ed7953\"],[0.7777777777777778,\"#fb9f3a\"],[0.8888888888888888,\"#fdca26\"],[1.0,\"#f0f921\"]]}],\"choropleth\":[{\"type\":\"choropleth\",\"colorbar\":{\"outlinewidth\":0,\"ticks\":\"\"}}],\"histogram2d\":[{\"type\":\"histogram2d\",\"colorbar\":{\"outlinewidth\":0,\"ticks\":\"\"},\"colorscale\":[[0.0,\"#0d0887\"],[0.1111111111111111,\"#46039f\"],[0.2222222222222222,\"#7201a8\"],[0.3333333333333333,\"#9c179e\"],[0.4444444444444444,\"#bd3786\"],[0.5555555555555556,\"#d8576b\"],[0.6666666666666666,\"#ed7953\"],[0.7777777777777778,\"#fb9f3a\"],[0.8888888888888888,\"#fdca26\"],[1.0,\"#f0f921\"]]}],\"heatmap\":[{\"type\":\"heatmap\",\"colorbar\":{\"outlinewidth\":0,\"ticks\":\"\"},\"colorscale\":[[0.0,\"#0d0887\"],[0.1111111111111111,\"#46039f\"],[0.2222222222222222,\"#7201a8\"],[0.3333333333333333,\"#9c179e\"],[0.4444444444444444,\"#bd3786\"],[0.5555555555555556,\"#d8576b\"],[0.6666666666666666,\"#ed7953\"],[0.7777777777777778,\"#fb9f3a\"],[0.8888888888888888,\"#fdca26\"],[1.0,\"#f0f921\"]]}],\"heatmapgl\":[{\"type\":\"heatmapgl\",\"colorbar\":{\"outlinewidth\":0,\"ticks\":\"\"},\"colorscale\":[[0.0,\"#0d0887\"],[0.1111111111111111,\"#46039f\"],[0.2222222222222222,\"#7201a8\"],[0.3333333333333333,\"#9c179e\"],[0.4444444444444444,\"#bd3786\"],[0.5555555555555556,\"#d8576b\"],[0.6666666666666666,\"#ed7953\"],[0.7777777777777778,\"#fb9f3a\"],[0.8888888888888888,\"#fdca26\"],[1.0,\"#f0f921\"]]}],\"contourcarpet\":[{\"type\":\"contourcarpet\",\"colorbar\":{\"outlinewidth\":0,\"ticks\":\"\"}}],\"contour\":[{\"type\":\"contour\",\"colorbar\":{\"outlinewidth\":0,\"ticks\":\"\"},\"colorscale\":[[0.0,\"#0d0887\"],[0.1111111111111111,\"#46039f\"],[0.2222222222222222,\"#7201a8\"],[0.3333333333333333,\"#9c179e\"],[0.4444444444444444,\"#bd3786\"],[0.5555555555555556,\"#d8576b\"],[0.6666666666666666,\"#ed7953\"],[0.7777777777777778,\"#fb9f3a\"],[0.8888888888888888,\"#fdca26\"],[1.0,\"#f0f921\"]]}],\"surface\":[{\"type\":\"surface\",\"colorbar\":{\"outlinewidth\":0,\"ticks\":\"\"},\"colorscale\":[[0.0,\"#0d0887\"],[0.1111111111111111,\"#46039f\"],[0.2222222222222222,\"#7201a8\"],[0.3333333333333333,\"#9c179e\"],[0.4444444444444444,\"#bd3786\"],[0.5555555555555556,\"#d8576b\"],[0.6666666666666666,\"#ed7953\"],[0.7777777777777778,\"#fb9f3a\"],[0.8888888888888888,\"#fdca26\"],[1.0,\"#f0f921\"]]}],\"mesh3d\":[{\"type\":\"mesh3d\",\"colorbar\":{\"outlinewidth\":0,\"ticks\":\"\"}}],\"scatter\":[{\"fillpattern\":{\"fillmode\":\"overlay\",\"size\":10,\"solidity\":0.2},\"type\":\"scatter\"}],\"parcoords\":[{\"type\":\"parcoords\",\"line\":{\"colorbar\":{\"outlinewidth\":0,\"ticks\":\"\"}}}],\"scatterpolargl\":[{\"type\":\"scatterpolargl\",\"marker\":{\"colorbar\":{\"outlinewidth\":0,\"ticks\":\"\"}}}],\"bar\":[{\"error_x\":{\"color\":\"#2a3f5f\"},\"error_y\":{\"color\":\"#2a3f5f\"},\"marker\":{\"line\":{\"color\":\"#E5ECF6\",\"width\":0.5},\"pattern\":{\"fillmode\":\"overlay\",\"size\":10,\"solidity\":0.2}},\"type\":\"bar\"}],\"scattergeo\":[{\"type\":\"scattergeo\",\"marker\":{\"colorbar\":{\"outlinewidth\":0,\"ticks\":\"\"}}}],\"scatterpolar\":[{\"type\":\"scatterpolar\",\"marker\":{\"colorbar\":{\"outlinewidth\":0,\"ticks\":\"\"}}}],\"histogram\":[{\"marker\":{\"pattern\":{\"fillmode\":\"overlay\",\"size\":10,\"solidity\":0.2}},\"type\":\"histogram\"}],\"scattergl\":[{\"type\":\"scattergl\",\"marker\":{\"colorbar\":{\"outlinewidth\":0,\"ticks\":\"\"}}}],\"scatter3d\":[{\"type\":\"scatter3d\",\"line\":{\"colorbar\":{\"outlinewidth\":0,\"ticks\":\"\"}},\"marker\":{\"colorbar\":{\"outlinewidth\":0,\"ticks\":\"\"}}}],\"scattermapbox\":[{\"type\":\"scattermapbox\",\"marker\":{\"colorbar\":{\"outlinewidth\":0,\"ticks\":\"\"}}}],\"scatterternary\":[{\"type\":\"scatterternary\",\"marker\":{\"colorbar\":{\"outlinewidth\":0,\"ticks\":\"\"}}}],\"scattercarpet\":[{\"type\":\"scattercarpet\",\"marker\":{\"colorbar\":{\"outlinewidth\":0,\"ticks\":\"\"}}}],\"carpet\":[{\"aaxis\":{\"endlinecolor\":\"#2a3f5f\",\"gridcolor\":\"white\",\"linecolor\":\"white\",\"minorgridcolor\":\"white\",\"startlinecolor\":\"#2a3f5f\"},\"baxis\":{\"endlinecolor\":\"#2a3f5f\",\"gridcolor\":\"white\",\"linecolor\":\"white\",\"minorgridcolor\":\"white\",\"startlinecolor\":\"#2a3f5f\"},\"type\":\"carpet\"}],\"table\":[{\"cells\":{\"fill\":{\"color\":\"#EBF0F8\"},\"line\":{\"color\":\"white\"}},\"header\":{\"fill\":{\"color\":\"#C8D4E3\"},\"line\":{\"color\":\"white\"}},\"type\":\"table\"}],\"barpolar\":[{\"marker\":{\"line\":{\"color\":\"#E5ECF6\",\"width\":0.5},\"pattern\":{\"fillmode\":\"overlay\",\"size\":10,\"solidity\":0.2}},\"type\":\"barpolar\"}],\"pie\":[{\"automargin\":true,\"type\":\"pie\"}]},\"layout\":{\"autotypenumbers\":\"strict\",\"colorway\":[\"#636efa\",\"#EF553B\",\"#00cc96\",\"#ab63fa\",\"#FFA15A\",\"#19d3f3\",\"#FF6692\",\"#B6E880\",\"#FF97FF\",\"#FECB52\"],\"font\":{\"color\":\"#2a3f5f\"},\"hovermode\":\"closest\",\"hoverlabel\":{\"align\":\"left\"},\"paper_bgcolor\":\"white\",\"plot_bgcolor\":\"#E5ECF6\",\"polar\":{\"bgcolor\":\"#E5ECF6\",\"angularaxis\":{\"gridcolor\":\"white\",\"linecolor\":\"white\",\"ticks\":\"\"},\"radialaxis\":{\"gridcolor\":\"white\",\"linecolor\":\"white\",\"ticks\":\"\"}},\"ternary\":{\"bgcolor\":\"#E5ECF6\",\"aaxis\":{\"gridcolor\":\"white\",\"linecolor\":\"white\",\"ticks\":\"\"},\"baxis\":{\"gridcolor\":\"white\",\"linecolor\":\"white\",\"ticks\":\"\"},\"caxis\":{\"gridcolor\":\"white\",\"linecolor\":\"white\",\"ticks\":\"\"}},\"coloraxis\":{\"colorbar\":{\"outlinewidth\":0,\"ticks\":\"\"}},\"colorscale\":{\"sequential\":[[0.0,\"#0d0887\"],[0.1111111111111111,\"#46039f\"],[0.2222222222222222,\"#7201a8\"],[0.3333333333333333,\"#9c179e\"],[0.4444444444444444,\"#bd3786\"],[0.5555555555555556,\"#d8576b\"],[0.6666666666666666,\"#ed7953\"],[0.7777777777777778,\"#fb9f3a\"],[0.8888888888888888,\"#fdca26\"],[1.0,\"#f0f921\"]],\"sequentialminus\":[[0.0,\"#0d0887\"],[0.1111111111111111,\"#46039f\"],[0.2222222222222222,\"#7201a8\"],[0.3333333333333333,\"#9c179e\"],[0.4444444444444444,\"#bd3786\"],[0.5555555555555556,\"#d8576b\"],[0.6666666666666666,\"#ed7953\"],[0.7777777777777778,\"#fb9f3a\"],[0.8888888888888888,\"#fdca26\"],[1.0,\"#f0f921\"]],\"diverging\":[[0,\"#8e0152\"],[0.1,\"#c51b7d\"],[0.2,\"#de77ae\"],[0.3,\"#f1b6da\"],[0.4,\"#fde0ef\"],[0.5,\"#f7f7f7\"],[0.6,\"#e6f5d0\"],[0.7,\"#b8e186\"],[0.8,\"#7fbc41\"],[0.9,\"#4d9221\"],[1,\"#276419\"]]},\"xaxis\":{\"gridcolor\":\"white\",\"linecolor\":\"white\",\"ticks\":\"\",\"title\":{\"standoff\":15},\"zerolinecolor\":\"white\",\"automargin\":true,\"zerolinewidth\":2},\"yaxis\":{\"gridcolor\":\"white\",\"linecolor\":\"white\",\"ticks\":\"\",\"title\":{\"standoff\":15},\"zerolinecolor\":\"white\",\"automargin\":true,\"zerolinewidth\":2},\"scene\":{\"xaxis\":{\"backgroundcolor\":\"#E5ECF6\",\"gridcolor\":\"white\",\"linecolor\":\"white\",\"showbackground\":true,\"ticks\":\"\",\"zerolinecolor\":\"white\",\"gridwidth\":2},\"yaxis\":{\"backgroundcolor\":\"#E5ECF6\",\"gridcolor\":\"white\",\"linecolor\":\"white\",\"showbackground\":true,\"ticks\":\"\",\"zerolinecolor\":\"white\",\"gridwidth\":2},\"zaxis\":{\"backgroundcolor\":\"#E5ECF6\",\"gridcolor\":\"white\",\"linecolor\":\"white\",\"showbackground\":true,\"ticks\":\"\",\"zerolinecolor\":\"white\",\"gridwidth\":2}},\"shapedefaults\":{\"line\":{\"color\":\"#2a3f5f\"}},\"annotationdefaults\":{\"arrowcolor\":\"#2a3f5f\",\"arrowhead\":0,\"arrowwidth\":1},\"geo\":{\"bgcolor\":\"white\",\"landcolor\":\"#E5ECF6\",\"subunitcolor\":\"white\",\"showland\":true,\"showlakes\":true,\"lakecolor\":\"white\"},\"title\":{\"x\":0.05},\"mapbox\":{\"style\":\"light\"}}},\"legend\":{\"x\":0,\"y\":1,\"traceorder\":\"normal\"},\"title\":{\"text\":\"Water Consumption Projections\"},\"xaxis\":{\"title\":{\"text\":\"Date\"}},\"yaxis\":{\"title\":{\"text\":\"Value\"}},\"width\":800,\"height\":400},                        {\"responsive\": true}                    ).then(function(){\n",
       "                            \n",
       "var gd = document.getElementById('7d3071ab-bc2f-4e78-80b1-84d245644a70');\n",
       "var x = new MutationObserver(function (mutations, observer) {{\n",
       "        var display = window.getComputedStyle(gd).display;\n",
       "        if (!display || display === 'none') {{\n",
       "            console.log([gd, 'removed!']);\n",
       "            Plotly.purge(gd);\n",
       "            observer.disconnect();\n",
       "        }}\n",
       "}});\n",
       "\n",
       "// Listen for the removal of the full notebook cells\n",
       "var notebookContainer = gd.closest('#notebook-container');\n",
       "if (notebookContainer) {{\n",
       "    x.observe(notebookContainer, {childList: true});\n",
       "}}\n",
       "\n",
       "// Listen for the clearing of the current output cell\n",
       "var outputEl = gd.closest('.output');\n",
       "if (outputEl) {{\n",
       "    x.observe(outputEl, {childList: true});\n",
       "}}\n",
       "\n",
       "                        })                };                });            </script>        </div>"
      ]
     },
     "metadata": {},
     "output_type": "display_data"
    }
   ],
   "source": [
    "import plotly.graph_objects as go\n",
    "\n",
    "# Create the figure\n",
    "fig = go.Figure()\n",
    "\n",
    "# Add traces to the figure\n",
    "fig.add_trace(go.Scatter(x=train_df.index, y=train_df['Value'], name='Train Data'))\n",
    "fig.add_trace(go.Scatter(x=prediction_index, y=prediction_value, name='Prediction', line=dict(color='red')))\n",
    "fig.add_trace(go.Scatter(x=test_df.index, y=test_df['Value'], name='Real Visit Data', line=dict(color='orange', dash='dash')))\n",
    "\n",
    "# Update the layout\n",
    "fig.update_layout(\n",
    "    title='Water Consumption Projections',\n",
    "    xaxis_title='Date',\n",
    "    yaxis_title='Value',\n",
    "    legend=dict(x=0, y=1, traceorder='normal'),\n",
    "    width=800,\n",
    "    height=400)\n",
    "\n",
    "# Show the plot\n",
    "fig.show()"
   ]
  },
  {
   "cell_type": "markdown",
   "id": "664630be",
   "metadata": {
    "papermill": {
     "duration": 0.009492,
     "end_time": "2023-07-22T16:02:46.971676",
     "exception": false,
     "start_time": "2023-07-22T16:02:46.962184",
     "status": "completed"
    },
    "tags": []
   },
   "source": [
    "# 4. End-to-end ARIMA Algorithm (improved)"
   ]
  },
  {
   "cell_type": "code",
   "execution_count": 10,
   "id": "b8e168cd",
   "metadata": {
    "execution": {
     "iopub.execute_input": "2023-07-22T16:02:46.993681Z",
     "iopub.status.busy": "2023-07-22T16:02:46.992993Z",
     "iopub.status.idle": "2023-07-22T16:02:48.375038Z",
     "shell.execute_reply": "2023-07-22T16:02:48.373493Z"
    },
    "papermill": {
     "duration": 1.395315,
     "end_time": "2023-07-22T16:02:48.376770",
     "exception": true,
     "start_time": "2023-07-22T16:02:46.981455",
     "status": "failed"
    },
    "tags": []
   },
   "outputs": [
    {
     "name": "stderr",
     "output_type": "stream",
     "text": [
      "/opt/conda/lib/python3.10/site-packages/statsmodels/tsa/statespace/sarimax.py:978: UserWarning:\n",
      "\n",
      "Non-invertible starting MA parameters found. Using zeros as starting parameters.\n",
      "\n"
     ]
    },
    {
     "name": "stdout",
     "output_type": "stream",
     "text": [
      "                               SARIMAX Results                                \n",
      "==============================================================================\n",
      "Dep. Variable:                      y   No. Observations:                  240\n",
      "Model:                 ARIMA(0, 2, 2)   Log Likelihood                -363.195\n",
      "Date:                Sat, 22 Jul 2023   AIC                            732.390\n",
      "Time:                        16:02:47   BIC                            742.807\n",
      "Sample:                             0   HQIC                           736.589\n",
      "                                - 240                                         \n",
      "Covariance Type:                  opg                                         \n",
      "==============================================================================\n",
      "                 coef    std err          z      P>|z|      [0.025      0.975]\n",
      "------------------------------------------------------------------------------\n",
      "ma.L1         -1.9978      2.545     -0.785      0.433      -6.987       2.991\n",
      "ma.L2          0.9978      2.539      0.393      0.694      -3.979       5.974\n",
      "sigma2         1.1452      2.927      0.391      0.696      -4.591       6.882\n",
      "===================================================================================\n",
      "Ljung-Box (L1) (Q):                   1.28   Jarque-Bera (JB):                 9.41\n",
      "Prob(Q):                              0.26   Prob(JB):                         0.01\n",
      "Heteroskedasticity (H):               1.24   Skew:                            -0.08\n",
      "Prob(H) (two-sided):                  0.34   Kurtosis:                         2.04\n",
      "===================================================================================\n",
      "\n",
      "Warnings:\n",
      "[1] Covariance matrix calculated using the outer product of gradients (complex-step).\n"
     ]
    },
    {
     "data": {
      "text/html": [
       "<div>                            <div id=\"08c26f6f-9b4e-4b7e-8de6-96695e452b33\" class=\"plotly-graph-div\" style=\"height:400px; width:800px;\"></div>            <script type=\"text/javascript\">                require([\"plotly\"], function(Plotly) {                    window.PLOTLYENV=window.PLOTLYENV || {};                                    if (document.getElementById(\"08c26f6f-9b4e-4b7e-8de6-96695e452b33\")) {                    Plotly.newPlot(                        \"08c26f6f-9b4e-4b7e-8de6-96695e452b33\",                        [{\"name\":\"Train Data\",\"x\":[\"2023-01-01T00:00:00\",\"2023-01-01T01:00:00\",\"2023-01-01T02:00:00\",\"2023-01-01T03:00:00\",\"2023-01-01T04:00:00\",\"2023-01-01T05:00:00\",\"2023-01-01T06:00:00\",\"2023-01-01T07:00:00\",\"2023-01-01T08:00:00\",\"2023-01-01T09:00:00\",\"2023-01-01T10:00:00\",\"2023-01-01T11:00:00\",\"2023-01-01T12:00:00\",\"2023-01-01T13:00:00\",\"2023-01-01T14:00:00\",\"2023-01-01T15:00:00\",\"2023-01-01T16:00:00\",\"2023-01-01T17:00:00\",\"2023-01-01T18:00:00\",\"2023-01-01T19:00:00\",\"2023-01-01T20:00:00\",\"2023-01-01T21:00:00\",\"2023-01-01T22:00:00\",\"2023-01-01T23:00:00\",\"2023-01-02T00:00:00\",\"2023-01-02T01:00:00\",\"2023-01-02T02:00:00\",\"2023-01-02T03:00:00\",\"2023-01-02T04:00:00\",\"2023-01-02T05:00:00\",\"2023-01-02T06:00:00\",\"2023-01-02T07:00:00\",\"2023-01-02T08:00:00\",\"2023-01-02T09:00:00\",\"2023-01-02T10:00:00\",\"2023-01-02T11:00:00\",\"2023-01-02T12:00:00\",\"2023-01-02T13:00:00\",\"2023-01-02T14:00:00\",\"2023-01-02T15:00:00\",\"2023-01-02T16:00:00\",\"2023-01-02T17:00:00\",\"2023-01-02T18:00:00\",\"2023-01-02T19:00:00\",\"2023-01-02T20:00:00\",\"2023-01-02T21:00:00\",\"2023-01-02T22:00:00\",\"2023-01-02T23:00:00\",\"2023-01-03T00:00:00\",\"2023-01-03T01:00:00\",\"2023-01-03T02:00:00\",\"2023-01-03T03:00:00\",\"2023-01-03T04:00:00\",\"2023-01-03T05:00:00\",\"2023-01-03T06:00:00\",\"2023-01-03T07:00:00\",\"2023-01-03T08:00:00\",\"2023-01-03T09:00:00\",\"2023-01-03T10:00:00\",\"2023-01-03T11:00:00\",\"2023-01-03T12:00:00\",\"2023-01-03T13:00:00\",\"2023-01-03T14:00:00\",\"2023-01-03T15:00:00\",\"2023-01-03T16:00:00\",\"2023-01-03T17:00:00\",\"2023-01-03T18:00:00\",\"2023-01-03T19:00:00\",\"2023-01-03T20:00:00\",\"2023-01-03T21:00:00\",\"2023-01-03T22:00:00\",\"2023-01-03T23:00:00\",\"2023-01-04T00:00:00\",\"2023-01-04T01:00:00\",\"2023-01-04T02:00:00\",\"2023-01-04T03:00:00\",\"2023-01-04T04:00:00\",\"2023-01-04T05:00:00\",\"2023-01-04T06:00:00\",\"2023-01-04T07:00:00\",\"2023-01-04T08:00:00\",\"2023-01-04T09:00:00\",\"2023-01-04T10:00:00\",\"2023-01-04T11:00:00\",\"2023-01-04T12:00:00\",\"2023-01-04T13:00:00\",\"2023-01-04T14:00:00\",\"2023-01-04T15:00:00\",\"2023-01-04T16:00:00\",\"2023-01-04T17:00:00\",\"2023-01-04T18:00:00\",\"2023-01-04T19:00:00\",\"2023-01-04T20:00:00\",\"2023-01-04T21:00:00\",\"2023-01-04T22:00:00\",\"2023-01-04T23:00:00\",\"2023-01-05T00:00:00\",\"2023-01-05T01:00:00\",\"2023-01-05T02:00:00\",\"2023-01-05T03:00:00\",\"2023-01-05T04:00:00\",\"2023-01-05T05:00:00\",\"2023-01-05T06:00:00\",\"2023-01-05T07:00:00\",\"2023-01-05T08:00:00\",\"2023-01-05T09:00:00\",\"2023-01-05T10:00:00\",\"2023-01-05T11:00:00\",\"2023-01-05T12:00:00\",\"2023-01-05T13:00:00\",\"2023-01-05T14:00:00\",\"2023-01-05T15:00:00\",\"2023-01-05T16:00:00\",\"2023-01-05T17:00:00\",\"2023-01-05T18:00:00\",\"2023-01-05T19:00:00\",\"2023-01-05T20:00:00\",\"2023-01-05T21:00:00\",\"2023-01-05T22:00:00\",\"2023-01-05T23:00:00\",\"2023-01-06T00:00:00\",\"2023-01-06T01:00:00\",\"2023-01-06T02:00:00\",\"2023-01-06T03:00:00\",\"2023-01-06T04:00:00\",\"2023-01-06T05:00:00\",\"2023-01-06T06:00:00\",\"2023-01-06T07:00:00\",\"2023-01-06T08:00:00\",\"2023-01-06T09:00:00\",\"2023-01-06T10:00:00\",\"2023-01-06T11:00:00\",\"2023-01-06T12:00:00\",\"2023-01-06T13:00:00\",\"2023-01-06T14:00:00\",\"2023-01-06T15:00:00\",\"2023-01-06T16:00:00\",\"2023-01-06T17:00:00\",\"2023-01-06T18:00:00\",\"2023-01-06T19:00:00\",\"2023-01-06T20:00:00\",\"2023-01-06T21:00:00\",\"2023-01-06T22:00:00\",\"2023-01-06T23:00:00\",\"2023-01-07T00:00:00\",\"2023-01-07T01:00:00\",\"2023-01-07T02:00:00\",\"2023-01-07T03:00:00\",\"2023-01-07T04:00:00\",\"2023-01-07T05:00:00\",\"2023-01-07T06:00:00\",\"2023-01-07T07:00:00\",\"2023-01-07T08:00:00\",\"2023-01-07T09:00:00\",\"2023-01-07T10:00:00\",\"2023-01-07T11:00:00\",\"2023-01-07T12:00:00\",\"2023-01-07T13:00:00\",\"2023-01-07T14:00:00\",\"2023-01-07T15:00:00\",\"2023-01-07T16:00:00\",\"2023-01-07T17:00:00\",\"2023-01-07T18:00:00\",\"2023-01-07T19:00:00\",\"2023-01-07T20:00:00\",\"2023-01-07T21:00:00\",\"2023-01-07T22:00:00\",\"2023-01-07T23:00:00\",\"2023-01-08T00:00:00\",\"2023-01-08T01:00:00\",\"2023-01-08T02:00:00\",\"2023-01-08T03:00:00\",\"2023-01-08T04:00:00\",\"2023-01-08T05:00:00\",\"2023-01-08T06:00:00\",\"2023-01-08T07:00:00\",\"2023-01-08T08:00:00\",\"2023-01-08T09:00:00\",\"2023-01-08T10:00:00\",\"2023-01-08T11:00:00\",\"2023-01-08T12:00:00\",\"2023-01-08T13:00:00\",\"2023-01-08T14:00:00\",\"2023-01-08T15:00:00\",\"2023-01-08T16:00:00\",\"2023-01-08T17:00:00\",\"2023-01-08T18:00:00\",\"2023-01-08T19:00:00\",\"2023-01-08T20:00:00\",\"2023-01-08T21:00:00\",\"2023-01-08T22:00:00\",\"2023-01-08T23:00:00\",\"2023-01-09T00:00:00\",\"2023-01-09T01:00:00\",\"2023-01-09T02:00:00\",\"2023-01-09T03:00:00\",\"2023-01-09T04:00:00\",\"2023-01-09T05:00:00\",\"2023-01-09T06:00:00\",\"2023-01-09T07:00:00\",\"2023-01-09T08:00:00\",\"2023-01-09T09:00:00\",\"2023-01-09T10:00:00\",\"2023-01-09T11:00:00\",\"2023-01-09T12:00:00\",\"2023-01-09T13:00:00\",\"2023-01-09T14:00:00\",\"2023-01-09T15:00:00\",\"2023-01-09T16:00:00\",\"2023-01-09T17:00:00\",\"2023-01-09T18:00:00\",\"2023-01-09T19:00:00\",\"2023-01-09T20:00:00\",\"2023-01-09T21:00:00\",\"2023-01-09T22:00:00\",\"2023-01-09T23:00:00\",\"2023-01-10T00:00:00\",\"2023-01-10T01:00:00\",\"2023-01-10T02:00:00\",\"2023-01-10T03:00:00\",\"2023-01-10T04:00:00\",\"2023-01-10T05:00:00\",\"2023-01-10T06:00:00\",\"2023-01-10T07:00:00\",\"2023-01-10T08:00:00\",\"2023-01-10T09:00:00\",\"2023-01-10T10:00:00\",\"2023-01-10T11:00:00\",\"2023-01-10T12:00:00\",\"2023-01-10T13:00:00\",\"2023-01-10T14:00:00\",\"2023-01-10T15:00:00\",\"2023-01-10T16:00:00\",\"2023-01-10T17:00:00\",\"2023-01-10T18:00:00\",\"2023-01-10T19:00:00\",\"2023-01-10T20:00:00\",\"2023-01-10T21:00:00\",\"2023-01-10T22:00:00\",\"2023-01-10T23:00:00\"],\"y\":[4,1,1,3,2,4,3,3,5,3,3,5,6,6,5,6,4,4,4,6,7,6,5,7,6,5,7,6,7,7,7,6,6,8,8,6,8,8,9,9,7,8,10,10,11,11,8,11,10,11,11,11,10,11,12,10,11,13,13,11,12,12,12,13,12,14,12,15,14,15,14,13,13,13,14,15,15,16,16,14,15,16,17,16,18,17,15,15,18,17,18,19,18,17,16,18,20,19,18,20,19,20,21,20,21,21,19,21,20,21,22,21,21,19,20,23,22,21,21,21,22,24,21,22,21,23,25,22,24,24,24,24,26,25,23,25,24,24,27,25,25,26,26,27,26,27,27,27,25,28,29,29,27,27,26,28,28,28,30,28,28,28,28,29,28,28,30,29,31,30,29,31,31,32,31,32,31,30,30,33,32,31,32,33,31,33,34,34,32,33,32,33,36,35,36,34,36,33,37,37,35,36,35,36,35,35,35,37,38,35,38,39,38,39,37,37,38,39,38,39,39,39,40,38,40,40,38,38,42,40,41,42,42,39,42,41,40,41,43,42],\"type\":\"scatter\"},{\"line\":{\"color\":\"red\"},\"name\":\"Prediction\",\"x\":[\"2023-01-11T00:00:00\",\"2023-01-11T01:00:00\",\"2023-01-11T02:00:00\",\"2023-01-11T03:00:00\",\"2023-01-11T04:00:00\",\"2023-01-11T05:00:00\",\"2023-01-11T06:00:00\",\"2023-01-11T07:00:00\",\"2023-01-11T08:00:00\",\"2023-01-11T09:00:00\",\"2023-01-11T10:00:00\",\"2023-01-11T11:00:00\",\"2023-01-11T12:00:00\",\"2023-01-11T13:00:00\",\"2023-01-11T14:00:00\",\"2023-01-11T15:00:00\",\"2023-01-11T16:00:00\",\"2023-01-11T17:00:00\",\"2023-01-11T18:00:00\",\"2023-01-11T19:00:00\",\"2023-01-11T20:00:00\",\"2023-01-11T21:00:00\",\"2023-01-11T22:00:00\",\"2023-01-11T23:00:00\",\"2023-01-12T00:00:00\",\"2023-01-12T01:00:00\",\"2023-01-12T02:00:00\",\"2023-01-12T03:00:00\",\"2023-01-12T04:00:00\",\"2023-01-12T05:00:00\",\"2023-01-12T06:00:00\",\"2023-01-12T07:00:00\",\"2023-01-12T08:00:00\",\"2023-01-12T09:00:00\",\"2023-01-12T10:00:00\",\"2023-01-12T11:00:00\",\"2023-01-12T12:00:00\",\"2023-01-12T13:00:00\",\"2023-01-12T14:00:00\",\"2023-01-12T15:00:00\",\"2023-01-12T16:00:00\",\"2023-01-12T17:00:00\",\"2023-01-12T18:00:00\",\"2023-01-12T19:00:00\",\"2023-01-12T20:00:00\",\"2023-01-12T21:00:00\",\"2023-01-12T22:00:00\",\"2023-01-12T23:00:00\",\"2023-01-13T00:00:00\",\"2023-01-13T01:00:00\",\"2023-01-13T02:00:00\",\"2023-01-13T03:00:00\",\"2023-01-13T04:00:00\",\"2023-01-13T05:00:00\",\"2023-01-13T06:00:00\",\"2023-01-13T07:00:00\",\"2023-01-13T08:00:00\",\"2023-01-13T09:00:00\",\"2023-01-13T10:00:00\",\"2023-01-13T11:00:00\"],\"y\":[42.047048603652144,42.21272371128634,42.37839881892053,42.544073926554724,42.70974903418892,42.87542414182311,43.041099249457304,43.2067743570915,43.37244946472569,43.538124572359884,43.70379967999408,43.86947478762827,44.035149895262464,44.20082500289666,44.36650011053085,44.532175218165044,44.69785032579924,44.86352543343343,45.029200541067624,45.19487564870182,45.36055075633601,45.526225863970204,45.6919009716044,45.85757607923859,46.023251186872784,46.18892629450698,46.35460140214117,46.520276509775364,46.68595161740956,46.85162672504375,47.017301832677944,47.18297694031214,47.34865204794633,47.514327155580524,47.68000226321472,47.84567737084891,48.011352478483104,48.1770275861173,48.34270269375149,48.508377801385684,48.67405290901988,48.83972801665407,49.005403124288264,49.17107823192246,49.33675333955665,49.502428447190844,49.66810355482504,49.83377866245923,49.999453770093425,50.16512887772762,50.33080398536181,50.496479092996005,50.6621542006302,50.82782930826439,50.993504415898585,51.15917952353278,51.32485463116697,51.490529738801165,51.65620484643536,51.82187995406955],\"type\":\"scatter\"},{\"line\":{\"color\":\"orange\",\"dash\":\"dash\"},\"name\":\"Real Visit Data\",\"x\":[\"2023-01-11T00:00:00\",\"2023-01-11T01:00:00\",\"2023-01-11T02:00:00\",\"2023-01-11T03:00:00\",\"2023-01-11T04:00:00\",\"2023-01-11T05:00:00\",\"2023-01-11T06:00:00\",\"2023-01-11T07:00:00\",\"2023-01-11T08:00:00\",\"2023-01-11T09:00:00\",\"2023-01-11T10:00:00\",\"2023-01-11T11:00:00\",\"2023-01-11T12:00:00\",\"2023-01-11T13:00:00\",\"2023-01-11T14:00:00\",\"2023-01-11T15:00:00\",\"2023-01-11T16:00:00\",\"2023-01-11T17:00:00\",\"2023-01-11T18:00:00\",\"2023-01-11T19:00:00\",\"2023-01-11T20:00:00\",\"2023-01-11T21:00:00\",\"2023-01-11T22:00:00\",\"2023-01-11T23:00:00\",\"2023-01-12T00:00:00\",\"2023-01-12T01:00:00\",\"2023-01-12T02:00:00\",\"2023-01-12T03:00:00\",\"2023-01-12T04:00:00\",\"2023-01-12T05:00:00\",\"2023-01-12T06:00:00\",\"2023-01-12T07:00:00\",\"2023-01-12T08:00:00\",\"2023-01-12T09:00:00\",\"2023-01-12T10:00:00\",\"2023-01-12T11:00:00\",\"2023-01-12T12:00:00\",\"2023-01-12T13:00:00\",\"2023-01-12T14:00:00\",\"2023-01-12T15:00:00\",\"2023-01-12T16:00:00\",\"2023-01-12T17:00:00\",\"2023-01-12T18:00:00\",\"2023-01-12T19:00:00\",\"2023-01-12T20:00:00\",\"2023-01-12T21:00:00\",\"2023-01-12T22:00:00\",\"2023-01-12T23:00:00\",\"2023-01-13T00:00:00\",\"2023-01-13T01:00:00\",\"2023-01-13T02:00:00\",\"2023-01-13T03:00:00\",\"2023-01-13T04:00:00\",\"2023-01-13T05:00:00\",\"2023-01-13T06:00:00\",\"2023-01-13T07:00:00\",\"2023-01-13T08:00:00\",\"2023-01-13T09:00:00\",\"2023-01-13T10:00:00\",\"2023-01-13T11:00:00\"],\"y\":[43,44,43,44,41,44,44,42,45,44,43,43,44,46,43,46,43,44,46,46,44,44,45,47,48,48,48,45,48,47,48,49,46,48,47,47,47,50,49,50,50,47,49,48,48,50,49,50,50,51,49,50,50,52,51,52,50,53,50,51],\"type\":\"scatter\"}],                        {\"template\":{\"data\":{\"histogram2dcontour\":[{\"type\":\"histogram2dcontour\",\"colorbar\":{\"outlinewidth\":0,\"ticks\":\"\"},\"colorscale\":[[0.0,\"#0d0887\"],[0.1111111111111111,\"#46039f\"],[0.2222222222222222,\"#7201a8\"],[0.3333333333333333,\"#9c179e\"],[0.4444444444444444,\"#bd3786\"],[0.5555555555555556,\"#d8576b\"],[0.6666666666666666,\"#ed7953\"],[0.7777777777777778,\"#fb9f3a\"],[0.8888888888888888,\"#fdca26\"],[1.0,\"#f0f921\"]]}],\"choropleth\":[{\"type\":\"choropleth\",\"colorbar\":{\"outlinewidth\":0,\"ticks\":\"\"}}],\"histogram2d\":[{\"type\":\"histogram2d\",\"colorbar\":{\"outlinewidth\":0,\"ticks\":\"\"},\"colorscale\":[[0.0,\"#0d0887\"],[0.1111111111111111,\"#46039f\"],[0.2222222222222222,\"#7201a8\"],[0.3333333333333333,\"#9c179e\"],[0.4444444444444444,\"#bd3786\"],[0.5555555555555556,\"#d8576b\"],[0.6666666666666666,\"#ed7953\"],[0.7777777777777778,\"#fb9f3a\"],[0.8888888888888888,\"#fdca26\"],[1.0,\"#f0f921\"]]}],\"heatmap\":[{\"type\":\"heatmap\",\"colorbar\":{\"outlinewidth\":0,\"ticks\":\"\"},\"colorscale\":[[0.0,\"#0d0887\"],[0.1111111111111111,\"#46039f\"],[0.2222222222222222,\"#7201a8\"],[0.3333333333333333,\"#9c179e\"],[0.4444444444444444,\"#bd3786\"],[0.5555555555555556,\"#d8576b\"],[0.6666666666666666,\"#ed7953\"],[0.7777777777777778,\"#fb9f3a\"],[0.8888888888888888,\"#fdca26\"],[1.0,\"#f0f921\"]]}],\"heatmapgl\":[{\"type\":\"heatmapgl\",\"colorbar\":{\"outlinewidth\":0,\"ticks\":\"\"},\"colorscale\":[[0.0,\"#0d0887\"],[0.1111111111111111,\"#46039f\"],[0.2222222222222222,\"#7201a8\"],[0.3333333333333333,\"#9c179e\"],[0.4444444444444444,\"#bd3786\"],[0.5555555555555556,\"#d8576b\"],[0.6666666666666666,\"#ed7953\"],[0.7777777777777778,\"#fb9f3a\"],[0.8888888888888888,\"#fdca26\"],[1.0,\"#f0f921\"]]}],\"contourcarpet\":[{\"type\":\"contourcarpet\",\"colorbar\":{\"outlinewidth\":0,\"ticks\":\"\"}}],\"contour\":[{\"type\":\"contour\",\"colorbar\":{\"outlinewidth\":0,\"ticks\":\"\"},\"colorscale\":[[0.0,\"#0d0887\"],[0.1111111111111111,\"#46039f\"],[0.2222222222222222,\"#7201a8\"],[0.3333333333333333,\"#9c179e\"],[0.4444444444444444,\"#bd3786\"],[0.5555555555555556,\"#d8576b\"],[0.6666666666666666,\"#ed7953\"],[0.7777777777777778,\"#fb9f3a\"],[0.8888888888888888,\"#fdca26\"],[1.0,\"#f0f921\"]]}],\"surface\":[{\"type\":\"surface\",\"colorbar\":{\"outlinewidth\":0,\"ticks\":\"\"},\"colorscale\":[[0.0,\"#0d0887\"],[0.1111111111111111,\"#46039f\"],[0.2222222222222222,\"#7201a8\"],[0.3333333333333333,\"#9c179e\"],[0.4444444444444444,\"#bd3786\"],[0.5555555555555556,\"#d8576b\"],[0.6666666666666666,\"#ed7953\"],[0.7777777777777778,\"#fb9f3a\"],[0.8888888888888888,\"#fdca26\"],[1.0,\"#f0f921\"]]}],\"mesh3d\":[{\"type\":\"mesh3d\",\"colorbar\":{\"outlinewidth\":0,\"ticks\":\"\"}}],\"scatter\":[{\"fillpattern\":{\"fillmode\":\"overlay\",\"size\":10,\"solidity\":0.2},\"type\":\"scatter\"}],\"parcoords\":[{\"type\":\"parcoords\",\"line\":{\"colorbar\":{\"outlinewidth\":0,\"ticks\":\"\"}}}],\"scatterpolargl\":[{\"type\":\"scatterpolargl\",\"marker\":{\"colorbar\":{\"outlinewidth\":0,\"ticks\":\"\"}}}],\"bar\":[{\"error_x\":{\"color\":\"#2a3f5f\"},\"error_y\":{\"color\":\"#2a3f5f\"},\"marker\":{\"line\":{\"color\":\"#E5ECF6\",\"width\":0.5},\"pattern\":{\"fillmode\":\"overlay\",\"size\":10,\"solidity\":0.2}},\"type\":\"bar\"}],\"scattergeo\":[{\"type\":\"scattergeo\",\"marker\":{\"colorbar\":{\"outlinewidth\":0,\"ticks\":\"\"}}}],\"scatterpolar\":[{\"type\":\"scatterpolar\",\"marker\":{\"colorbar\":{\"outlinewidth\":0,\"ticks\":\"\"}}}],\"histogram\":[{\"marker\":{\"pattern\":{\"fillmode\":\"overlay\",\"size\":10,\"solidity\":0.2}},\"type\":\"histogram\"}],\"scattergl\":[{\"type\":\"scattergl\",\"marker\":{\"colorbar\":{\"outlinewidth\":0,\"ticks\":\"\"}}}],\"scatter3d\":[{\"type\":\"scatter3d\",\"line\":{\"colorbar\":{\"outlinewidth\":0,\"ticks\":\"\"}},\"marker\":{\"colorbar\":{\"outlinewidth\":0,\"ticks\":\"\"}}}],\"scattermapbox\":[{\"type\":\"scattermapbox\",\"marker\":{\"colorbar\":{\"outlinewidth\":0,\"ticks\":\"\"}}}],\"scatterternary\":[{\"type\":\"scatterternary\",\"marker\":{\"colorbar\":{\"outlinewidth\":0,\"ticks\":\"\"}}}],\"scattercarpet\":[{\"type\":\"scattercarpet\",\"marker\":{\"colorbar\":{\"outlinewidth\":0,\"ticks\":\"\"}}}],\"carpet\":[{\"aaxis\":{\"endlinecolor\":\"#2a3f5f\",\"gridcolor\":\"white\",\"linecolor\":\"white\",\"minorgridcolor\":\"white\",\"startlinecolor\":\"#2a3f5f\"},\"baxis\":{\"endlinecolor\":\"#2a3f5f\",\"gridcolor\":\"white\",\"linecolor\":\"white\",\"minorgridcolor\":\"white\",\"startlinecolor\":\"#2a3f5f\"},\"type\":\"carpet\"}],\"table\":[{\"cells\":{\"fill\":{\"color\":\"#EBF0F8\"},\"line\":{\"color\":\"white\"}},\"header\":{\"fill\":{\"color\":\"#C8D4E3\"},\"line\":{\"color\":\"white\"}},\"type\":\"table\"}],\"barpolar\":[{\"marker\":{\"line\":{\"color\":\"#E5ECF6\",\"width\":0.5},\"pattern\":{\"fillmode\":\"overlay\",\"size\":10,\"solidity\":0.2}},\"type\":\"barpolar\"}],\"pie\":[{\"automargin\":true,\"type\":\"pie\"}]},\"layout\":{\"autotypenumbers\":\"strict\",\"colorway\":[\"#636efa\",\"#EF553B\",\"#00cc96\",\"#ab63fa\",\"#FFA15A\",\"#19d3f3\",\"#FF6692\",\"#B6E880\",\"#FF97FF\",\"#FECB52\"],\"font\":{\"color\":\"#2a3f5f\"},\"hovermode\":\"closest\",\"hoverlabel\":{\"align\":\"left\"},\"paper_bgcolor\":\"white\",\"plot_bgcolor\":\"#E5ECF6\",\"polar\":{\"bgcolor\":\"#E5ECF6\",\"angularaxis\":{\"gridcolor\":\"white\",\"linecolor\":\"white\",\"ticks\":\"\"},\"radialaxis\":{\"gridcolor\":\"white\",\"linecolor\":\"white\",\"ticks\":\"\"}},\"ternary\":{\"bgcolor\":\"#E5ECF6\",\"aaxis\":{\"gridcolor\":\"white\",\"linecolor\":\"white\",\"ticks\":\"\"},\"baxis\":{\"gridcolor\":\"white\",\"linecolor\":\"white\",\"ticks\":\"\"},\"caxis\":{\"gridcolor\":\"white\",\"linecolor\":\"white\",\"ticks\":\"\"}},\"coloraxis\":{\"colorbar\":{\"outlinewidth\":0,\"ticks\":\"\"}},\"colorscale\":{\"sequential\":[[0.0,\"#0d0887\"],[0.1111111111111111,\"#46039f\"],[0.2222222222222222,\"#7201a8\"],[0.3333333333333333,\"#9c179e\"],[0.4444444444444444,\"#bd3786\"],[0.5555555555555556,\"#d8576b\"],[0.6666666666666666,\"#ed7953\"],[0.7777777777777778,\"#fb9f3a\"],[0.8888888888888888,\"#fdca26\"],[1.0,\"#f0f921\"]],\"sequentialminus\":[[0.0,\"#0d0887\"],[0.1111111111111111,\"#46039f\"],[0.2222222222222222,\"#7201a8\"],[0.3333333333333333,\"#9c179e\"],[0.4444444444444444,\"#bd3786\"],[0.5555555555555556,\"#d8576b\"],[0.6666666666666666,\"#ed7953\"],[0.7777777777777778,\"#fb9f3a\"],[0.8888888888888888,\"#fdca26\"],[1.0,\"#f0f921\"]],\"diverging\":[[0,\"#8e0152\"],[0.1,\"#c51b7d\"],[0.2,\"#de77ae\"],[0.3,\"#f1b6da\"],[0.4,\"#fde0ef\"],[0.5,\"#f7f7f7\"],[0.6,\"#e6f5d0\"],[0.7,\"#b8e186\"],[0.8,\"#7fbc41\"],[0.9,\"#4d9221\"],[1,\"#276419\"]]},\"xaxis\":{\"gridcolor\":\"white\",\"linecolor\":\"white\",\"ticks\":\"\",\"title\":{\"standoff\":15},\"zerolinecolor\":\"white\",\"automargin\":true,\"zerolinewidth\":2},\"yaxis\":{\"gridcolor\":\"white\",\"linecolor\":\"white\",\"ticks\":\"\",\"title\":{\"standoff\":15},\"zerolinecolor\":\"white\",\"automargin\":true,\"zerolinewidth\":2},\"scene\":{\"xaxis\":{\"backgroundcolor\":\"#E5ECF6\",\"gridcolor\":\"white\",\"linecolor\":\"white\",\"showbackground\":true,\"ticks\":\"\",\"zerolinecolor\":\"white\",\"gridwidth\":2},\"yaxis\":{\"backgroundcolor\":\"#E5ECF6\",\"gridcolor\":\"white\",\"linecolor\":\"white\",\"showbackground\":true,\"ticks\":\"\",\"zerolinecolor\":\"white\",\"gridwidth\":2},\"zaxis\":{\"backgroundcolor\":\"#E5ECF6\",\"gridcolor\":\"white\",\"linecolor\":\"white\",\"showbackground\":true,\"ticks\":\"\",\"zerolinecolor\":\"white\",\"gridwidth\":2}},\"shapedefaults\":{\"line\":{\"color\":\"#2a3f5f\"}},\"annotationdefaults\":{\"arrowcolor\":\"#2a3f5f\",\"arrowhead\":0,\"arrowwidth\":1},\"geo\":{\"bgcolor\":\"white\",\"landcolor\":\"#E5ECF6\",\"subunitcolor\":\"white\",\"showland\":true,\"showlakes\":true,\"lakecolor\":\"white\"},\"title\":{\"x\":0.05},\"mapbox\":{\"style\":\"light\"}}},\"legend\":{\"x\":0,\"y\":1,\"traceorder\":\"normal\"},\"title\":{\"text\":\"Water Consumption Projections\"},\"xaxis\":{\"title\":{\"text\":\"Date\"}},\"yaxis\":{\"title\":{\"text\":\"Value\"}},\"width\":800,\"height\":400},                        {\"responsive\": true}                    ).then(function(){\n",
       "                            \n",
       "var gd = document.getElementById('08c26f6f-9b4e-4b7e-8de6-96695e452b33');\n",
       "var x = new MutationObserver(function (mutations, observer) {{\n",
       "        var display = window.getComputedStyle(gd).display;\n",
       "        if (!display || display === 'none') {{\n",
       "            console.log([gd, 'removed!']);\n",
       "            Plotly.purge(gd);\n",
       "            observer.disconnect();\n",
       "        }}\n",
       "}});\n",
       "\n",
       "// Listen for the removal of the full notebook cells\n",
       "var notebookContainer = gd.closest('#notebook-container');\n",
       "if (notebookContainer) {{\n",
       "    x.observe(notebookContainer, {childList: true});\n",
       "}}\n",
       "\n",
       "// Listen for the clearing of the current output cell\n",
       "var outputEl = gd.closest('.output');\n",
       "if (outputEl) {{\n",
       "    x.observe(outputEl, {childList: true});\n",
       "}}\n",
       "\n",
       "                        })                };                });            </script>        </div>"
      ]
     },
     "metadata": {},
     "output_type": "display_data"
    },
    {
     "ename": "NameError",
     "evalue": "name 'r2_score' is not defined",
     "output_type": "error",
     "traceback": [
      "\u001b[0;31m---------------------------------------------------------------------------\u001b[0m",
      "\u001b[0;31mNameError\u001b[0m                                 Traceback (most recent call last)",
      "Cell \u001b[0;32mIn[10], line 51\u001b[0m\n\u001b[1;32m     49\u001b[0m     plotly_graph(train_df, test_df, prediction_index, prediction_value)\n\u001b[1;32m     50\u001b[0m     \u001b[38;5;28mprint\u001b[39m(prediction_gradient(prediction_value))\n\u001b[0;32m---> 51\u001b[0m \u001b[43mmain\u001b[49m\u001b[43m(\u001b[49m\u001b[43mdf\u001b[49m\u001b[43m)\u001b[49m\n",
      "Cell \u001b[0;32mIn[10], line 50\u001b[0m, in \u001b[0;36mmain\u001b[0;34m(df)\u001b[0m\n\u001b[1;32m     48\u001b[0m [prediction_index, prediction_value] \u001b[38;5;241m=\u001b[39m ARIMA_training(train_df, test_df ,order\u001b[38;5;241m=\u001b[39m(\u001b[38;5;241m0\u001b[39m, \u001b[38;5;241m2\u001b[39m, \u001b[38;5;241m2\u001b[39m))\n\u001b[1;32m     49\u001b[0m plotly_graph(train_df, test_df, prediction_index, prediction_value)\n\u001b[0;32m---> 50\u001b[0m \u001b[38;5;28mprint\u001b[39m(\u001b[43mprediction_gradient\u001b[49m\u001b[43m(\u001b[49m\u001b[43mprediction_value\u001b[49m\u001b[43m)\u001b[49m)\n",
      "Cell \u001b[0;32mIn[10], line 42\u001b[0m, in \u001b[0;36mprediction_gradient\u001b[0;34m(prediction_value)\u001b[0m\n\u001b[1;32m     40\u001b[0m \u001b[38;5;66;03m# Calculate the predicted values y_pred for R-squared score\u001b[39;00m\n\u001b[1;32m     41\u001b[0m y_pred \u001b[38;5;241m=\u001b[39m gradient \u001b[38;5;241m*\u001b[39m X\u001b[38;5;241m.\u001b[39msqueeze() \u001b[38;5;241m+\u001b[39m intercept\n\u001b[0;32m---> 42\u001b[0m r2 \u001b[38;5;241m=\u001b[39m \u001b[43mr2_score\u001b[49m(y, y_pred)\n\u001b[1;32m     44\u001b[0m \u001b[38;5;66;03m# return gradient, intercept\u001b[39;00m\n\u001b[1;32m     45\u001b[0m \u001b[38;5;28;01mreturn\u001b[39;00m [gradient, intercept, r2]\n",
      "\u001b[0;31mNameError\u001b[0m: name 'r2_score' is not defined"
     ]
    }
   ],
   "source": [
    "def ARIMA_training(train_df, test_df ,order=(0, 2, 2)):\n",
    "    train_df, test_df = train_test_split(df, test_size = 0.2, shuffle=False)\n",
    "    model = ARIMA(train_df.values, order=order)\n",
    "    model_fit = model.fit()\n",
    "    prediction = model_fit.forecast(len(test_df))\n",
    "    prediction_value = prediction\n",
    "    prediction_index = list(test_df.index)\n",
    "    print(model_fit.summary())\n",
    "    return [prediction_index, prediction_value]\n",
    "def plotly_graph(train_df, test_df, prediction_index, prediction_value):\n",
    "    import plotly.graph_objects as go\n",
    "\n",
    "    # Create the figure\n",
    "    fig = go.Figure()\n",
    "\n",
    "    # Add traces to the figure\n",
    "    fig.add_trace(go.Scatter(x=train_df.index, y=train_df['Value'], name='Train Data'))\n",
    "    fig.add_trace(go.Scatter(x=prediction_index, y=prediction_value, name='Prediction', line=dict(color='red')))\n",
    "    fig.add_trace(go.Scatter(x=test_df.index, y=test_df['Value'], name='Real Visit Data', line=dict(color='orange', dash='dash')))\n",
    "\n",
    "    # Update the layout\n",
    "    fig.update_layout(\n",
    "        title='Water Consumption Projections',\n",
    "        xaxis_title='Date',\n",
    "        yaxis_title='Value',\n",
    "        legend=dict(x=0, y=1, traceorder='normal'),\n",
    "        width=800,\n",
    "        height=400)\n",
    "\n",
    "    # Show the plot\n",
    "    fig.show()\n",
    "def prediction_gradient(prediction_value):\n",
    "    # Create X and y for linear regression\n",
    "    X = np.arange(len(prediction_value)).reshape(-1, 1)\n",
    "    y = prediction_value\n",
    "\n",
    "    # Perform linear regression\n",
    "    coefficients = np.polyfit(X.squeeze(), y, 1)\n",
    "    gradient, intercept = coefficients[0], coefficients[1]\n",
    "    # Calculate the predicted values y_pred for R-squared score\n",
    "    y_pred = gradient * X.squeeze() + intercept\n",
    "    r2 = r2_score(y, y_pred)\n",
    "    \n",
    "    # return gradient, intercept\n",
    "    return [gradient, intercept, r2]\n",
    "def main(df):\n",
    "    train_df, test_df = train_test_split(df, test_size = 0.2, shuffle=False)\n",
    "    [prediction_index, prediction_value] = ARIMA_training(train_df, test_df ,order=(0, 2, 2))\n",
    "    plotly_graph(train_df, test_df, prediction_index, prediction_value)\n",
    "    print(prediction_gradient(prediction_value))\n",
    "main(df)"
   ]
  },
  {
   "cell_type": "code",
   "execution_count": null,
   "id": "dca9dce9",
   "metadata": {
    "execution": {
     "iopub.execute_input": "2023-07-22T16:00:26.502798Z",
     "iopub.status.busy": "2023-07-22T16:00:26.502388Z",
     "iopub.status.idle": "2023-07-22T16:00:27.017944Z",
     "shell.execute_reply": "2023-07-22T16:00:27.016234Z",
     "shell.execute_reply.started": "2023-07-22T16:00:26.502768Z"
    },
    "papermill": {
     "duration": null,
     "end_time": null,
     "exception": null,
     "start_time": null,
     "status": "pending"
    },
    "tags": []
   },
   "outputs": [],
   "source": []
  },
  {
   "cell_type": "markdown",
   "id": "511ccc0e",
   "metadata": {
    "papermill": {
     "duration": null,
     "end_time": null,
     "exception": null,
     "start_time": null,
     "status": "pending"
    },
    "tags": []
   },
   "source": [
    "# 5. Populating Household Datasets towards Benchmarking"
   ]
  },
  {
   "cell_type": "code",
   "execution_count": null,
   "id": "26238bff",
   "metadata": {
    "execution": {
     "iopub.execute_input": "2023-07-22T15:59:33.181087Z",
     "iopub.status.busy": "2023-07-22T15:59:33.180658Z",
     "iopub.status.idle": "2023-07-22T15:59:33.231759Z",
     "shell.execute_reply": "2023-07-22T15:59:33.230630Z",
     "shell.execute_reply.started": "2023-07-22T15:59:33.181056Z"
    },
    "papermill": {
     "duration": null,
     "end_time": null,
     "exception": null,
     "start_time": null,
     "status": "pending"
    },
    "tags": []
   },
   "outputs": [],
   "source": [
    "from functools import reduce\n",
    "data_frames = [household_data_generator() for i in range(10)]\n",
    "merged_df = reduce(lambda left, right: pd.merge(left, \n",
    "                                                right, left_index=True, right_index=True), data_frames)\n",
    "merged_df['Value'] = merged_df.sum(axis=1)\n",
    "merged_df\n"
   ]
  },
  {
   "cell_type": "code",
   "execution_count": null,
   "id": "d428f482",
   "metadata": {
    "execution": {
     "iopub.execute_input": "2023-07-22T16:01:31.215946Z",
     "iopub.status.busy": "2023-07-22T16:01:31.215507Z",
     "iopub.status.idle": "2023-07-22T16:01:31.440233Z",
     "shell.execute_reply": "2023-07-22T16:01:31.439093Z",
     "shell.execute_reply.started": "2023-07-22T16:01:31.215911Z"
    },
    "papermill": {
     "duration": null,
     "end_time": null,
     "exception": null,
     "start_time": null,
     "status": "pending"
    },
    "tags": []
   },
   "outputs": [],
   "source": [
    "main(merged_df[['Value']])"
   ]
  }
 ],
 "metadata": {
  "kernelspec": {
   "display_name": "Python 3",
   "language": "python",
   "name": "python3"
  },
  "language_info": {
   "codemirror_mode": {
    "name": "ipython",
    "version": 3
   },
   "file_extension": ".py",
   "mimetype": "text/x-python",
   "name": "python",
   "nbconvert_exporter": "python",
   "pygments_lexer": "ipython3",
   "version": "3.10.12"
  },
  "papermill": {
   "default_parameters": {},
   "duration": 36.287865,
   "end_time": "2023-07-22T16:02:49.510616",
   "environment_variables": {},
   "exception": true,
   "input_path": "__notebook__.ipynb",
   "output_path": "__notebook__.ipynb",
   "parameters": {},
   "start_time": "2023-07-22T16:02:13.222751",
   "version": "2.4.0"
  }
 },
 "nbformat": 4,
 "nbformat_minor": 5
}
